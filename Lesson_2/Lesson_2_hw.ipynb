{
 "cells": [
  {
   "cell_type": "code",
   "execution_count": 3,
   "id": "f3f1dcdb",
   "metadata": {},
   "outputs": [],
   "source": [
    "import mnist\n",
    "from tensorflow import keras\n",
    "import keras_tuner as kt"
   ]
  },
  {
   "cell_type": "code",
   "execution_count": 4,
   "id": "d8e7dbe7",
   "metadata": {},
   "outputs": [],
   "source": [
    "def build_model(hp):\n",
    "    model = keras.Sequential()\n",
    "    model.add(keras.layers.Flatten(input_shape=(784,)))\n",
    "\n",
    "    hp_units = hp.Int('units', min_value=32, max_value=512, step=32)\n",
    "    model.add(keras.layers.Dense(units=hp_units, activation='relu'))\n",
    "    model.add(keras.layers.Dense(10, activation='softmax'))\n",
    "    model.compile(\n",
    "        optimizer=keras.optimizers.Adam(\n",
    "            hp.Choice('learning_rate',\n",
    "                      values=[1e-0, 1e-1, 1e-2, 1e-3, 1e-4])),\n",
    "        loss='sparse_categorical_crossentropy',\n",
    "        metrics=['accuracy'])\n",
    "    return model"
   ]
  },
  {
   "cell_type": "code",
   "execution_count": 5,
   "id": "0eaf24c4",
   "metadata": {},
   "outputs": [],
   "source": [
    "tuner = kt.Hyperband(build_model,\n",
    "                     objective='accuracy',\n",
    "                     max_epochs=10,\n",
    "                     factor=3,\n",
    "                     directory='my_dir4',\n",
    "                     project_name='intro_to_kt')"
   ]
  },
  {
   "cell_type": "code",
   "execution_count": 6,
   "id": "225c8a08",
   "metadata": {},
   "outputs": [],
   "source": [
    "# The first time you run this might be a bit slow, since the\n",
    "# mnist package has to download and cache the data.\n",
    "train_images = mnist.train_images()\n",
    "train_labels = mnist.train_labels()\n",
    "\n",
    "test_images = mnist.test_images()\n",
    "test_labels = mnist.test_labels()\n",
    "\n",
    "# Normalize the images.\n",
    "train_images = (train_images / 255) - 0.5\n",
    "test_images = (test_images / 255) - 0.5"
   ]
  },
  {
   "cell_type": "code",
   "execution_count": 7,
   "id": "532fd971",
   "metadata": {},
   "outputs": [],
   "source": [
    "# Flatten the images.\n",
    "train_images = train_images.reshape((-1, 784))\n",
    "test_images = test_images.reshape((-1, 784))"
   ]
  },
  {
   "cell_type": "code",
   "execution_count": 8,
   "id": "3b5ca268",
   "metadata": {},
   "outputs": [
    {
     "name": "stdout",
     "output_type": "stream",
     "text": [
      "Trial 30 Complete [00h 00m 23s]\n",
      "accuracy: 0.9840666651725769\n",
      "\n",
      "Best accuracy So Far: 0.9840666651725769\n",
      "Total elapsed time: 00h 05m 55s\n",
      "INFO:tensorflow:Oracle triggered exit\n",
      "Results summary\n",
      "Results in my_dir4\\intro_to_kt\n",
      "Showing 10 best trials\n",
      "Objective(name='accuracy', direction='max')\n",
      "Trial summary\n",
      "Hyperparameters:\n",
      "units: 160\n",
      "learning_rate: 0.001\n",
      "tuner/epochs: 10\n",
      "tuner/initial_epoch: 0\n",
      "tuner/bracket: 0\n",
      "tuner/round: 0\n",
      "Score: 0.9840666651725769\n",
      "Trial summary\n",
      "Hyperparameters:\n",
      "units: 480\n",
      "learning_rate: 0.001\n",
      "tuner/epochs: 10\n",
      "tuner/initial_epoch: 4\n",
      "tuner/bracket: 2\n",
      "tuner/round: 2\n",
      "tuner/trial_id: d2d6a96b2fa4cb60710ae5aba92ca508\n",
      "Score: 0.979616641998291\n",
      "Trial summary\n",
      "Hyperparameters:\n",
      "units: 352\n",
      "learning_rate: 0.001\n",
      "tuner/epochs: 10\n",
      "tuner/initial_epoch: 4\n",
      "tuner/bracket: 2\n",
      "tuner/round: 2\n",
      "tuner/trial_id: 1dd80f1ee4c60190826702b9fd656db9\n",
      "Score: 0.9794333577156067\n",
      "Trial summary\n",
      "Hyperparameters:\n",
      "units: 128\n",
      "learning_rate: 0.001\n",
      "tuner/epochs: 10\n",
      "tuner/initial_epoch: 4\n",
      "tuner/bracket: 1\n",
      "tuner/round: 1\n",
      "tuner/trial_id: ae24b0ca487f7b072c274e3abdcff4fe\n",
      "Score: 0.9749000072479248\n",
      "Trial summary\n",
      "Hyperparameters:\n",
      "units: 96\n",
      "learning_rate: 0.001\n",
      "tuner/epochs: 10\n",
      "tuner/initial_epoch: 4\n",
      "tuner/bracket: 1\n",
      "tuner/round: 1\n",
      "tuner/trial_id: c21c6ac13e633349b52eb0a44494897f\n",
      "Score: 0.9717666506767273\n",
      "Trial summary\n",
      "Hyperparameters:\n",
      "units: 128\n",
      "learning_rate: 0.001\n",
      "tuner/epochs: 4\n",
      "tuner/initial_epoch: 0\n",
      "tuner/bracket: 1\n",
      "tuner/round: 0\n",
      "Score: 0.9674166440963745\n",
      "Trial summary\n",
      "Hyperparameters:\n",
      "units: 96\n",
      "learning_rate: 0.001\n",
      "tuner/epochs: 4\n",
      "tuner/initial_epoch: 0\n",
      "tuner/bracket: 1\n",
      "tuner/round: 0\n",
      "Score: 0.9634833335876465\n",
      "Trial summary\n",
      "Hyperparameters:\n",
      "units: 480\n",
      "learning_rate: 0.001\n",
      "tuner/epochs: 4\n",
      "tuner/initial_epoch: 2\n",
      "tuner/bracket: 2\n",
      "tuner/round: 1\n",
      "tuner/trial_id: 0c85ea8dd60fe2a0e091e474c8921e73\n",
      "Score: 0.9594166874885559\n",
      "Trial summary\n",
      "Hyperparameters:\n",
      "units: 352\n",
      "learning_rate: 0.001\n",
      "tuner/epochs: 2\n",
      "tuner/initial_epoch: 0\n",
      "tuner/bracket: 2\n",
      "tuner/round: 0\n",
      "Score: 0.9578499794006348\n",
      "Trial summary\n",
      "Hyperparameters:\n",
      "units: 480\n",
      "learning_rate: 0.001\n",
      "tuner/epochs: 2\n",
      "tuner/initial_epoch: 0\n",
      "tuner/bracket: 2\n",
      "tuner/round: 0\n",
      "Score: 0.9574166536331177\n"
     ]
    }
   ],
   "source": [
    "# %%time\n",
    "tuner.search(train_images, train_labels)\n",
    "\n",
    "models = tuner.get_best_models(num_models=2)\n",
    "\n",
    "tuner.results_summary()"
   ]
  },
  {
   "cell_type": "code",
   "execution_count": 10,
   "id": "5ce88f4e",
   "metadata": {},
   "outputs": [
    {
     "name": "stdout",
     "output_type": "stream",
     "text": [
      "\n",
      "The hyperparameter search is complete. The optimal number of units in the first densely-connected\n",
      "layer is 160 and the optimal learning rate for the optimizer\n",
      "is 0.001.\n",
      "\n"
     ]
    }
   ],
   "source": [
    "best_hps=tuner.get_best_hyperparameters(num_trials=1)[0]\n",
    "\n",
    "print(f\"\"\"\n",
    "The hyperparameter search is complete. The optimal number of units in the first densely-connected\n",
    "layer is {best_hps.get('units')} and the optimal learning rate for the optimizer\n",
    "is {best_hps.get('learning_rate')}.\n",
    "\"\"\")"
   ]
  },
  {
   "cell_type": "code",
   "execution_count": 11,
   "id": "14a4a928",
   "metadata": {},
   "outputs": [
    {
     "name": "stdout",
     "output_type": "stream",
     "text": [
      "Epoch 1/50\n",
      "   1/1500 [..............................] - ETA: 0s - loss: 2.2472 - accuracy: 0.0938WARNING:tensorflow:Callbacks method `on_train_batch_end` is slow compared to the batch time (batch time: 0.0000s vs `on_train_batch_end` time: 0.0022s). Check your callbacks.\n",
      "1500/1500 [==============================] - 2s 1ms/step - loss: 0.3533 - accuracy: 0.8941 - val_loss: 0.1913 - val_accuracy: 0.9461\n",
      "Epoch 2/50\n",
      "1500/1500 [==============================] - 2s 1ms/step - loss: 0.1788 - accuracy: 0.9459 - val_loss: 0.1643 - val_accuracy: 0.9528\n",
      "Epoch 3/50\n",
      "1500/1500 [==============================] - 2s 1ms/step - loss: 0.1291 - accuracy: 0.9610 - val_loss: 0.1179 - val_accuracy: 0.9639\n",
      "Epoch 4/50\n",
      "1500/1500 [==============================] - 2s 1ms/step - loss: 0.1057 - accuracy: 0.9675 - val_loss: 0.1057 - val_accuracy: 0.9693\n",
      "Epoch 5/50\n",
      "1500/1500 [==============================] - 2s 1ms/step - loss: 0.0904 - accuracy: 0.9724 - val_loss: 0.1257 - val_accuracy: 0.9629 loss: 0.0910 - \n",
      "Epoch 6/50\n",
      "1500/1500 [==============================] - 2s 1ms/step - loss: 0.0790 - accuracy: 0.9746 - val_loss: 0.0954 - val_accuracy: 0.9716\n",
      "Epoch 7/50\n",
      "1500/1500 [==============================] - 2s 1ms/step - loss: 0.0699 - accuracy: 0.9782 - val_loss: 0.1079 - val_accuracy: 0.9672\n",
      "Epoch 8/50\n",
      "1500/1500 [==============================] - 2s 1ms/step - loss: 0.0617 - accuracy: 0.9800 - val_loss: 0.1008 - val_accuracy: 0.9701\n",
      "Epoch 9/50\n",
      "1500/1500 [==============================] - 2s 1ms/step - loss: 0.0568 - accuracy: 0.9822 - val_loss: 0.0961 - val_accuracy: 0.9729\n",
      "Epoch 10/50\n",
      "1500/1500 [==============================] - 2s 1ms/step - loss: 0.0522 - accuracy: 0.9828 - val_loss: 0.0958 - val_accuracy: 0.9723\n",
      "Epoch 11/50\n",
      "1500/1500 [==============================] - 2s 1ms/step - loss: 0.0469 - accuracy: 0.9847 - val_loss: 0.1259 - val_accuracy: 0.9649\n",
      "Epoch 12/50\n",
      "1500/1500 [==============================] - 2s 1ms/step - loss: 0.0422 - accuracy: 0.9851 - val_loss: 0.0870 - val_accuracy: 0.9748\n",
      "Epoch 13/50\n",
      "1500/1500 [==============================] - 2s 1ms/step - loss: 0.0375 - accuracy: 0.9871 - val_loss: 0.0943 - val_accuracy: 0.9747\n",
      "Epoch 14/50\n",
      "1500/1500 [==============================] - 2s 1ms/step - loss: 0.0361 - accuracy: 0.9876 - val_loss: 0.1086 - val_accuracy: 0.9715\n",
      "Epoch 15/50\n",
      "1500/1500 [==============================] - 2s 1ms/step - loss: 0.0335 - accuracy: 0.9881 - val_loss: 0.1014 - val_accuracy: 0.9725\n",
      "Epoch 16/50\n",
      "1500/1500 [==============================] - 2s 1ms/step - loss: 0.0314 - accuracy: 0.9890 - val_loss: 0.1121 - val_accuracy: 0.9718\n",
      "Epoch 17/50\n",
      "1500/1500 [==============================] - 2s 1ms/step - loss: 0.0284 - accuracy: 0.9902 - val_loss: 0.0966 - val_accuracy: 0.9767\n",
      "Epoch 18/50\n",
      "1500/1500 [==============================] - 2s 1ms/step - loss: 0.0256 - accuracy: 0.9912 - val_loss: 0.1187 - val_accuracy: 0.9706\n",
      "Epoch 19/50\n",
      "1500/1500 [==============================] - 2s 1ms/step - loss: 0.0278 - accuracy: 0.9902 - val_loss: 0.1163 - val_accuracy: 0.9724\n",
      "Epoch 20/50\n",
      "1500/1500 [==============================] - 2s 1ms/step - loss: 0.0233 - accuracy: 0.9919 - val_loss: 0.1263 - val_accuracy: 0.9715\n",
      "Epoch 21/50\n",
      "1500/1500 [==============================] - 2s 1ms/step - loss: 0.0218 - accuracy: 0.9925 - val_loss: 0.1122 - val_accuracy: 0.9762\n",
      "Epoch 22/50\n",
      "1500/1500 [==============================] - 2s 1ms/step - loss: 0.0235 - accuracy: 0.9916 - val_loss: 0.1413 - val_accuracy: 0.9697\n",
      "Epoch 23/50\n",
      "1500/1500 [==============================] - 2s 1ms/step - loss: 0.0191 - accuracy: 0.9933 - val_loss: 0.1196 - val_accuracy: 0.9760\n",
      "Epoch 24/50\n",
      "1500/1500 [==============================] - 2s 1ms/step - loss: 0.0174 - accuracy: 0.9941 - val_loss: 0.1220 - val_accuracy: 0.9738\n",
      "Epoch 25/50\n",
      "1500/1500 [==============================] - 2s 1ms/step - loss: 0.0203 - accuracy: 0.9933 - val_loss: 0.1259 - val_accuracy: 0.9753\n",
      "Epoch 26/50\n",
      "1500/1500 [==============================] - 2s 1ms/step - loss: 0.0208 - accuracy: 0.9929 - val_loss: 0.1627 - val_accuracy: 0.9703\n",
      "Epoch 27/50\n",
      "1500/1500 [==============================] - 2s 1ms/step - loss: 0.0157 - accuracy: 0.9944 - val_loss: 0.1590 - val_accuracy: 0.9678\n",
      "Epoch 28/50\n",
      "1500/1500 [==============================] - 2s 1ms/step - loss: 0.0196 - accuracy: 0.9935 - val_loss: 0.1211 - val_accuracy: 0.9751\n",
      "Epoch 29/50\n",
      "1500/1500 [==============================] - 2s 1ms/step - loss: 0.0171 - accuracy: 0.9944 - val_loss: 0.1136 - val_accuracy: 0.9765\n",
      "Epoch 30/50\n",
      "1500/1500 [==============================] - 2s 1ms/step - loss: 0.0163 - accuracy: 0.9942 - val_loss: 0.1174 - val_accuracy: 0.9772\n",
      "Epoch 31/50\n",
      "1500/1500 [==============================] - 2s 1ms/step - loss: 0.0144 - accuracy: 0.9951 - val_loss: 0.1265 - val_accuracy: 0.9780\n",
      "Epoch 32/50\n",
      "1500/1500 [==============================] - 2s 1ms/step - loss: 0.0164 - accuracy: 0.9951 - val_loss: 0.1643 - val_accuracy: 0.9711\n",
      "Epoch 33/50\n",
      "1500/1500 [==============================] - 2s 1ms/step - loss: 0.0145 - accuracy: 0.9950 - val_loss: 0.1302 - val_accuracy: 0.9760\n",
      "Epoch 34/50\n",
      "1500/1500 [==============================] - 2s 1ms/step - loss: 0.0151 - accuracy: 0.9951 - val_loss: 0.1308 - val_accuracy: 0.9747\n",
      "Epoch 35/50\n",
      "1500/1500 [==============================] - 2s 1ms/step - loss: 0.0107 - accuracy: 0.9960 - val_loss: 0.1309 - val_accuracy: 0.9783\n",
      "Epoch 36/50\n",
      "1500/1500 [==============================] - 2s 2ms/step - loss: 0.0153 - accuracy: 0.9946 - val_loss: 0.1282 - val_accuracy: 0.9774\n",
      "Epoch 37/50\n",
      "1500/1500 [==============================] - 2s 1ms/step - loss: 0.0118 - accuracy: 0.9957 - val_loss: 0.1407 - val_accuracy: 0.9760\n",
      "Epoch 38/50\n",
      "1500/1500 [==============================] - 2s 1ms/step - loss: 0.0125 - accuracy: 0.9958 - val_loss: 0.1352 - val_accuracy: 0.9754\n",
      "Epoch 39/50\n",
      "1500/1500 [==============================] - 3s 2ms/step - loss: 0.0132 - accuracy: 0.9952 - val_loss: 0.1367 - val_accuracy: 0.9755\n",
      "Epoch 40/50\n",
      "1500/1500 [==============================] - 2s 1ms/step - loss: 0.0138 - accuracy: 0.9952 - val_loss: 0.1452 - val_accuracy: 0.9738\n",
      "Epoch 41/50\n",
      "1500/1500 [==============================] - 2s 1ms/step - loss: 0.0115 - accuracy: 0.9962 - val_loss: 0.1425 - val_accuracy: 0.9753\n",
      "Epoch 42/50\n",
      "1500/1500 [==============================] - 2s 1ms/step - loss: 0.0097 - accuracy: 0.9963 - val_loss: 0.1610 - val_accuracy: 0.9732\n",
      "Epoch 43/50\n",
      "1500/1500 [==============================] - 2s 1ms/step - loss: 0.0132 - accuracy: 0.9952 - val_loss: 0.1422 - val_accuracy: 0.9762\n",
      "Epoch 44/50\n",
      "1500/1500 [==============================] - 2s 1ms/step - loss: 0.0131 - accuracy: 0.9958 - val_loss: 0.1309 - val_accuracy: 0.9790\n",
      "Epoch 45/50\n",
      "1500/1500 [==============================] - 2s 1ms/step - loss: 0.0116 - accuracy: 0.9959 - val_loss: 0.1839 - val_accuracy: 0.9722\n",
      "Epoch 46/50\n",
      "1500/1500 [==============================] - 2s 1ms/step - loss: 0.0093 - accuracy: 0.9967 - val_loss: 0.1711 - val_accuracy: 0.9744\n",
      "Epoch 47/50\n",
      "1500/1500 [==============================] - 2s 1ms/step - loss: 0.0123 - accuracy: 0.9959 - val_loss: 0.1516 - val_accuracy: 0.9759\n",
      "Epoch 48/50\n",
      "1500/1500 [==============================] - 2s 1ms/step - loss: 0.0102 - accuracy: 0.9969 - val_loss: 0.1680 - val_accuracy: 0.9753\n",
      "Epoch 49/50\n",
      "1500/1500 [==============================] - 2s 1ms/step - loss: 0.0109 - accuracy: 0.9961 - val_loss: 0.1688 - val_accuracy: 0.9748\n",
      "Epoch 50/50\n",
      "1500/1500 [==============================] - 2s 1ms/step - loss: 0.0122 - accuracy: 0.9962 - val_loss: 0.1776 - val_accuracy: 0.9735\n"
     ]
    }
   ],
   "source": [
    "# Build the model with the optimal hyperparameters and train it on the data for 50 epochs\n",
    "model = tuner.hypermodel.build(best_hps)\n",
    "history = model.fit(train_images, train_labels, epochs=50, validation_split=0.2)"
   ]
  },
  {
   "cell_type": "code",
   "execution_count": 12,
   "id": "370307db",
   "metadata": {},
   "outputs": [
    {
     "name": "stdout",
     "output_type": "stream",
     "text": [
      "Best epoch: 44\n"
     ]
    }
   ],
   "source": [
    "val_acc_per_epoch = history.history['val_accuracy']\n",
    "best_epoch = val_acc_per_epoch.index(max(val_acc_per_epoch)) + 1\n",
    "print('Best epoch: %d' % (best_epoch,))"
   ]
  },
  {
   "cell_type": "code",
   "execution_count": 13,
   "id": "455c6e62",
   "metadata": {},
   "outputs": [],
   "source": [
    "hypermodel = tuner.hypermodel.build(best_hps)"
   ]
  },
  {
   "cell_type": "code",
   "execution_count": 14,
   "id": "9284efb8",
   "metadata": {},
   "outputs": [
    {
     "name": "stdout",
     "output_type": "stream",
     "text": [
      "Epoch 1/44\n",
      "   1/1500 [..............................] - ETA: 0s - loss: 2.4986 - accuracy: 0.0625WARNING:tensorflow:Callbacks method `on_train_batch_end` is slow compared to the batch time (batch time: 0.0000s vs `on_train_batch_end` time: 0.0073s). Check your callbacks.\n",
      "1500/1500 [==============================] - 2s 1ms/step - loss: 0.3663 - accuracy: 0.8909 - val_loss: 0.2193 - val_accuracy: 0.9364\n",
      "Epoch 2/44\n",
      "1500/1500 [==============================] - 2s 1ms/step - loss: 0.1878 - accuracy: 0.9444 - val_loss: 0.1563 - val_accuracy: 0.9570\n",
      "Epoch 3/44\n",
      "1500/1500 [==============================] - 2s 1ms/step - loss: 0.1372 - accuracy: 0.9588 - val_loss: 0.1622 - val_accuracy: 0.9519\n",
      "Epoch 4/44\n",
      "1500/1500 [==============================] - 2s 1ms/step - loss: 0.1106 - accuracy: 0.9668 - val_loss: 0.1177 - val_accuracy: 0.9649\n",
      "Epoch 5/44\n",
      "1500/1500 [==============================] - 2s 1ms/step - loss: 0.0963 - accuracy: 0.9707 - val_loss: 0.1058 - val_accuracy: 0.9675\n",
      "Epoch 6/44\n",
      "1500/1500 [==============================] - 2s 1ms/step - loss: 0.0826 - accuracy: 0.9741 - val_loss: 0.1191 - val_accuracy: 0.9651\n",
      "Epoch 7/44\n",
      "1500/1500 [==============================] - 2s 1ms/step - loss: 0.0722 - accuracy: 0.9780 - val_loss: 0.1004 - val_accuracy: 0.9712\n",
      "Epoch 8/44\n",
      "1500/1500 [==============================] - 2s 1ms/step - loss: 0.0660 - accuracy: 0.9786 - val_loss: 0.1003 - val_accuracy: 0.9710\n",
      "Epoch 9/44\n",
      "1500/1500 [==============================] - 2s 1ms/step - loss: 0.0601 - accuracy: 0.9808 - val_loss: 0.1078 - val_accuracy: 0.9695\n",
      "Epoch 10/44\n",
      "1500/1500 [==============================] - 2s 1ms/step - loss: 0.0531 - accuracy: 0.9834 - val_loss: 0.1302 - val_accuracy: 0.9651\n",
      "Epoch 11/44\n",
      "1500/1500 [==============================] - 2s 1ms/step - loss: 0.0476 - accuracy: 0.9841 - val_loss: 0.1165 - val_accuracy: 0.9685\n",
      "Epoch 12/44\n",
      "1500/1500 [==============================] - 2s 1ms/step - loss: 0.0445 - accuracy: 0.9848 - val_loss: 0.1142 - val_accuracy: 0.9677\n",
      "Epoch 13/44\n",
      "1500/1500 [==============================] - 2s 1ms/step - loss: 0.0399 - accuracy: 0.9866 - val_loss: 0.1193 - val_accuracy: 0.9706\n",
      "Epoch 14/44\n",
      "1500/1500 [==============================] - 2s 1ms/step - loss: 0.0381 - accuracy: 0.9871 - val_loss: 0.1062 - val_accuracy: 0.9733\n",
      "Epoch 15/44\n",
      "1500/1500 [==============================] - 2s 1ms/step - loss: 0.0361 - accuracy: 0.9877 - val_loss: 0.0928 - val_accuracy: 0.9763\n",
      "Epoch 16/44\n",
      "1500/1500 [==============================] - 2s 1ms/step - loss: 0.0307 - accuracy: 0.9896 - val_loss: 0.1014 - val_accuracy: 0.9754\n",
      "Epoch 17/44\n",
      "1500/1500 [==============================] - 2s 1ms/step - loss: 0.0292 - accuracy: 0.9897 - val_loss: 0.1223 - val_accuracy: 0.9708\n",
      "Epoch 18/44\n",
      "1500/1500 [==============================] - 2s 1ms/step - loss: 0.0276 - accuracy: 0.9906 - val_loss: 0.1120 - val_accuracy: 0.9731\n",
      "Epoch 19/44\n",
      "1500/1500 [==============================] - 2s 1ms/step - loss: 0.0259 - accuracy: 0.9910 - val_loss: 0.1282 - val_accuracy: 0.9697\n",
      "Epoch 20/44\n",
      "1500/1500 [==============================] - 2s 1ms/step - loss: 0.0253 - accuracy: 0.9910 - val_loss: 0.1183 - val_accuracy: 0.9737\n",
      "Epoch 21/44\n",
      "1500/1500 [==============================] - 2s 1ms/step - loss: 0.0226 - accuracy: 0.9920 - val_loss: 0.1336 - val_accuracy: 0.9732\n",
      "Epoch 22/44\n",
      "1500/1500 [==============================] - 2s 1ms/step - loss: 0.0238 - accuracy: 0.9914 - val_loss: 0.1123 - val_accuracy: 0.9756\n",
      "Epoch 23/44\n",
      "1500/1500 [==============================] - 2s 1ms/step - loss: 0.0225 - accuracy: 0.9922 - val_loss: 0.1290 - val_accuracy: 0.9715\n",
      "Epoch 24/44\n",
      "1500/1500 [==============================] - 2s 1ms/step - loss: 0.0186 - accuracy: 0.9936 - val_loss: 0.1242 - val_accuracy: 0.9729\n",
      "Epoch 25/44\n",
      "1500/1500 [==============================] - 2s 1ms/step - loss: 0.0204 - accuracy: 0.9929 - val_loss: 0.1267 - val_accuracy: 0.9747\n",
      "Epoch 26/44\n",
      "1500/1500 [==============================] - 2s 1ms/step - loss: 0.0177 - accuracy: 0.9934 - val_loss: 0.1252 - val_accuracy: 0.9732\n",
      "Epoch 27/44\n",
      "1500/1500 [==============================] - 2s 1ms/step - loss: 0.0164 - accuracy: 0.9941 - val_loss: 0.1242 - val_accuracy: 0.9732\n",
      "Epoch 28/44\n",
      "1500/1500 [==============================] - 2s 1ms/step - loss: 0.0195 - accuracy: 0.9932 - val_loss: 0.1401 - val_accuracy: 0.9749\n",
      "Epoch 29/44\n",
      "1500/1500 [==============================] - 2s 1ms/step - loss: 0.0179 - accuracy: 0.9936 - val_loss: 0.1199 - val_accuracy: 0.9759\n",
      "Epoch 30/44\n",
      "1500/1500 [==============================] - 2s 1ms/step - loss: 0.0136 - accuracy: 0.9951 - val_loss: 0.1677 - val_accuracy: 0.9693\n",
      "Epoch 31/44\n",
      "1500/1500 [==============================] - 2s 1ms/step - loss: 0.0177 - accuracy: 0.9938 - val_loss: 0.1373 - val_accuracy: 0.9757\n",
      "Epoch 32/44\n",
      "1500/1500 [==============================] - 2s 1ms/step - loss: 0.0140 - accuracy: 0.9951 - val_loss: 0.1455 - val_accuracy: 0.9722\n",
      "Epoch 33/44\n",
      "1500/1500 [==============================] - 2s 1ms/step - loss: 0.0124 - accuracy: 0.9957 - val_loss: 0.1436 - val_accuracy: 0.9748\n",
      "Epoch 34/44\n",
      "1500/1500 [==============================] - 2s 1ms/step - loss: 0.0173 - accuracy: 0.9939 - val_loss: 0.1428 - val_accuracy: 0.9757\n",
      "Epoch 35/44\n",
      "1500/1500 [==============================] - 2s 1ms/step - loss: 0.0125 - accuracy: 0.9960 - val_loss: 0.1383 - val_accuracy: 0.9758\n",
      "Epoch 36/44\n",
      "1500/1500 [==============================] - 2s 1ms/step - loss: 0.0131 - accuracy: 0.9955 - val_loss: 0.1736 - val_accuracy: 0.9723\n",
      "Epoch 37/44\n",
      "1500/1500 [==============================] - 2s 1ms/step - loss: 0.0121 - accuracy: 0.9959 - val_loss: 0.1921 - val_accuracy: 0.9682\n",
      "Epoch 38/44\n",
      "1500/1500 [==============================] - 2s 1ms/step - loss: 0.0159 - accuracy: 0.9943 - val_loss: 0.1403 - val_accuracy: 0.9754\n",
      "Epoch 39/44\n",
      "1500/1500 [==============================] - 2s 1ms/step - loss: 0.0105 - accuracy: 0.9961 - val_loss: 0.1669 - val_accuracy: 0.9735\n",
      "Epoch 40/44\n",
      "1500/1500 [==============================] - 2s 1ms/step - loss: 0.0129 - accuracy: 0.9953 - val_loss: 0.1422 - val_accuracy: 0.9767\n",
      "Epoch 41/44\n",
      "1500/1500 [==============================] - 2s 1ms/step - loss: 0.0117 - accuracy: 0.9962 - val_loss: 0.1844 - val_accuracy: 0.9711\n",
      "Epoch 42/44\n",
      "1500/1500 [==============================] - 2s 1ms/step - loss: 0.0134 - accuracy: 0.9953 - val_loss: 0.1706 - val_accuracy: 0.9721\n",
      "Epoch 43/44\n",
      "1500/1500 [==============================] - 2s 1ms/step - loss: 0.0127 - accuracy: 0.9958 - val_loss: 0.1667 - val_accuracy: 0.9734\n",
      "Epoch 44/44\n",
      "1500/1500 [==============================] - 2s 1ms/step - loss: 0.0093 - accuracy: 0.9968 - val_loss: 0.1652 - val_accuracy: 0.9739\n"
     ]
    },
    {
     "data": {
      "text/plain": [
       "<tensorflow.python.keras.callbacks.History at 0x1f11d66d430>"
      ]
     },
     "execution_count": 14,
     "metadata": {},
     "output_type": "execute_result"
    }
   ],
   "source": [
    "# Retrain the model\n",
    "hypermodel.fit(train_images, train_labels, epochs=best_epoch, validation_split=0.2)"
   ]
  },
  {
   "cell_type": "code",
   "execution_count": 15,
   "id": "36f13c1a",
   "metadata": {},
   "outputs": [
    {
     "name": "stdout",
     "output_type": "stream",
     "text": [
      "313/313 [==============================] - 0s 1ms/step - loss: 0.1406 - accuracy: 0.9765\n",
      "[test loss, test accuracy]: [0.14059212803840637, 0.9764999747276306]\n"
     ]
    }
   ],
   "source": [
    "eval_result = hypermodel.evaluate(test_images, test_labels)\n",
    "print(\"[test loss, test accuracy]:\", eval_result)"
   ]
  },
  {
   "cell_type": "code",
   "execution_count": 17,
   "id": "6b443769",
   "metadata": {},
   "outputs": [],
   "source": [
    "import numpy as np"
   ]
  },
  {
   "cell_type": "code",
   "execution_count": 28,
   "id": "668ded0c",
   "metadata": {},
   "outputs": [
    {
     "name": "stdout",
     "output_type": "stream",
     "text": [
      "[9 0 2 1]\n",
      "[9 0 3 1]\n"
     ]
    }
   ],
   "source": [
    "# Запуск нейронной сети для выполнения работы\n",
    "\n",
    "# Predict on the first 4 test images.\n",
    "predictions = hypermodel.predict(test_images[193:197])\n",
    "\n",
    "# Print our model's predictions.\n",
    "print(np.argmax(predictions, axis=1)) # [9, 0, 2, 1]\n",
    "print(test_labels[193:197]) # [9, 0, 2, 1]"
   ]
  },
  {
   "cell_type": "code",
   "execution_count": 30,
   "id": "1e7ef5eb",
   "metadata": {},
   "outputs": [],
   "source": [
    "import matplotlib.pyplot as plt"
   ]
  },
  {
   "cell_type": "code",
   "execution_count": 39,
   "id": "46750d85",
   "metadata": {},
   "outputs": [
    {
     "data": {
      "image/png": "[encoded data removed]",
      "text/plain": [
       "<Figure size 360x216 with 4 Axes>"
      ]
     },
     "metadata": {},
     "output_type": "display_data"
    }
   ],
   "source": [
    "# Визуализируем данные на которых модель ошибласть, в данном случае это цифра - \"тройка\", \n",
    "#  которую модель ошибочно приняла за двойку\n",
    "test_images_v0 = mnist.test_images()\n",
    "fig, axes = plt.subplots(1, 4, figsize=(5, 3))\n",
    "fig.suptitle('MNIST', fontsize=20)\n",
    "n = 193\n",
    "for ax in axes.flat:\n",
    "    ax.set_yticks([])\n",
    "    ax.set_xticks([])\n",
    "    ax.imshow(test_images_v0[n], cmap='Greys')\n",
    "    n += 1"
   ]
  },
  {
   "cell_type": "code",
   "execution_count": null,
   "id": "f0fea554",
   "metadata": {},
   "outputs": [],
   "source": []
  }
 ],
 "metadata": {
  "kernelspec": {
   "display_name": "Python 3 (ipykernel)",
   "language": "python",
   "name": "python3"
  },
  "language_info": {
   "codemirror_mode": {
    "name": "ipython",
    "version": 3
   },
   "file_extension": ".py",
   "mimetype": "text/x-python",
   "name": "python",
   "nbconvert_exporter": "python",
   "pygments_lexer": "ipython3",
   "version": "3.8.13"
  }
 },
 "nbformat": 4,
 "nbformat_minor": 5
}
