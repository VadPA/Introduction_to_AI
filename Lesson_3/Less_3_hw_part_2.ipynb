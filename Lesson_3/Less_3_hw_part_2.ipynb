{
 "cells": [
  {
   "cell_type": "code",
   "execution_count": 1,
   "id": "7f0cec36",
   "metadata": {},
   "outputs": [],
   "source": [
    "import numpy as np\n",
    "import pandas as pd\n",
    "import seaborn as sns\n",
    "import matplotlib.pyplot as plt\n",
    "\n",
    "from tensorflow.keras.models import Sequential\n",
    "from tensorflow.keras.layers import Dense\n",
    "from tensorflow.keras.utils import to_categorical\n",
    "from tensorflow import keras\n",
    "import tensorflow as tf\n",
    "import keras_tuner as kt\n",
    "\n",
    "from sklearn.metrics import classification_report, multilabel_confusion_matrix\n",
    "from sklearn.model_selection import train_test_split"
   ]
  },
  {
   "cell_type": "code",
   "execution_count": 2,
   "id": "d10b47bb",
   "metadata": {},
   "outputs": [],
   "source": [
    "X = np.load('binary_alpha_digits_images.npy')\n",
    "y = np.load('binary_alpha_digits_labels.npy')"
   ]
  },
  {
   "cell_type": "code",
   "execution_count": 3,
   "id": "a2d097bc",
   "metadata": {},
   "outputs": [
    {
     "data": {
      "text/plain": [
       "((1404, 20, 16), (1404,))"
      ]
     },
     "execution_count": 3,
     "metadata": {},
     "output_type": "execute_result"
    }
   ],
   "source": [
    "X.shape, y.shape"
   ]
  },
  {
   "cell_type": "code",
   "execution_count": 4,
   "id": "c6093130",
   "metadata": {},
   "outputs": [],
   "source": [
    "classes = [str(i) for i in range(10)] +  list('ABCDEFGHIJKLMNOPQRSTUVWXYZ')"
   ]
  },
  {
   "cell_type": "code",
   "execution_count": 5,
   "id": "4530602d",
   "metadata": {},
   "outputs": [
    {
     "data": {
      "image/png": "[encoded data removed]",
      "text/plain": [
       "<Figure size 1080x504 with 15 Axes>"
      ]
     },
     "metadata": {},
     "output_type": "display_data"
    }
   ],
   "source": [
    "fig, axes = plt.subplots(3, 5, figsize=(15, 7))\n",
    "fig.suptitle('binary alpha digits', fontsize=20)\n",
    "n = 0\n",
    "for ax in axes.flat:\n",
    "    ax.set_yticks([])\n",
    "    ax.set_xticks([])\n",
    "    ax.imshow(X[n], cmap=plt.cm.binary)\n",
    "    ax.set_xlabel(classes[y[n]])\n",
    "    n += 1"
   ]
  },
  {
   "cell_type": "code",
   "execution_count": 6,
   "id": "6f05ff06",
   "metadata": {},
   "outputs": [
    {
     "name": "stdout",
     "output_type": "stream",
     "text": [
      "(1404, 20, 16)\n",
      "1404\n",
      "[33 21 16 ...  5 23 15]\n"
     ]
    }
   ],
   "source": [
    "print(X.shape, len(y), y, sep='\\n')"
   ]
  },
  {
   "cell_type": "code",
   "execution_count": 8,
   "id": "68294552",
   "metadata": {},
   "outputs": [],
   "source": [
    "X = X / 255.0"
   ]
  },
  {
   "cell_type": "code",
   "execution_count": 9,
   "id": "8439696c",
   "metadata": {},
   "outputs": [],
   "source": [
    "# Dividing data into training and test data\n",
    "X_train, X_test, y_train, y_test = train_test_split(X, y, test_size=0.33, random_state=42)"
   ]
  },
  {
   "cell_type": "code",
   "execution_count": 351,
   "id": "38a180d9",
   "metadata": {},
   "outputs": [],
   "source": [
    "# Create a model\n",
    "model = keras.Sequential([\n",
    "    keras.layers.Flatten(input_shape=(20, 16)),\n",
    "    keras.layers.Dense(960, activation='relu'),\n",
    "    keras.layers.Dense(320, activation='relu'),\n",
    "    keras.layers.Dense(36)\n",
    "])\n",
    "\n",
    "model.compile(optimizer=tf.keras.optimizers.Adam(learning_rate=0.001),\n",
    "              loss=tf.keras.losses.SparseCategoricalCrossentropy(from_logits=True),\n",
    "              metrics=['accuracy'])"
   ]
  },
  {
   "cell_type": "code",
   "execution_count": 352,
   "id": "83f82895",
   "metadata": {},
   "outputs": [
    {
     "name": "stdout",
     "output_type": "stream",
     "text": [
      "Epoch 1/200\n",
      "30/30 [==============================] - 0s 5ms/step - loss: 3.5797 - accuracy: 0.0447\n",
      "Epoch 2/200\n",
      "30/30 [==============================] - 0s 5ms/step - loss: 3.5400 - accuracy: 0.0809\n",
      "Epoch 3/200\n",
      "30/30 [==============================] - 0s 5ms/step - loss: 3.3921 - accuracy: 0.1330\n",
      "Epoch 4/200\n",
      "30/30 [==============================] - 0s 5ms/step - loss: 3.0218 - accuracy: 0.1947\n",
      "Epoch 5/200\n",
      "30/30 [==============================] - 0s 5ms/step - loss: 2.5644 - accuracy: 0.2638\n",
      "Epoch 6/200\n",
      "30/30 [==============================] - 0s 5ms/step - loss: 2.2520 - accuracy: 0.3234\n",
      "Epoch 7/200\n",
      "30/30 [==============================] - 0s 5ms/step - loss: 1.9957 - accuracy: 0.4457\n",
      "Epoch 8/200\n",
      "30/30 [==============================] - 0s 5ms/step - loss: 1.8358 - accuracy: 0.4298\n",
      "Epoch 9/200\n",
      "30/30 [==============================] - 0s 6ms/step - loss: 1.7033 - accuracy: 0.5032\n",
      "Epoch 10/200\n",
      "30/30 [==============================] - 0s 6ms/step - loss: 1.5853 - accuracy: 0.5266\n",
      "Epoch 11/200\n",
      "30/30 [==============================] - 0s 7ms/step - loss: 1.4907 - accuracy: 0.5479: 0s - loss: 1.4281 - accuracy\n",
      "Epoch 12/200\n",
      "30/30 [==============================] - 0s 6ms/step - loss: 1.4061 - accuracy: 0.5734\n",
      "Epoch 13/200\n",
      "30/30 [==============================] - ETA: 0s - loss: 1.3365 - accuracy: 0.60 - 0s 6ms/step - loss: 1.3266 - accuracy: 0.6032\n",
      "Epoch 14/200\n",
      "30/30 [==============================] - 0s 6ms/step - loss: 1.2666 - accuracy: 0.6000\n",
      "Epoch 15/200\n",
      "30/30 [==============================] - 0s 6ms/step - loss: 1.2331 - accuracy: 0.6106\n",
      "Epoch 16/200\n",
      "30/30 [==============================] - 0s 5ms/step - loss: 1.1838 - accuracy: 0.6213\n",
      "Epoch 17/200\n",
      "30/30 [==============================] - 0s 5ms/step - loss: 1.1432 - accuracy: 0.6383\n",
      "Epoch 18/200\n",
      "30/30 [==============================] - 0s 5ms/step - loss: 1.0967 - accuracy: 0.6585\n",
      "Epoch 19/200\n",
      "30/30 [==============================] - 0s 5ms/step - loss: 1.0595 - accuracy: 0.6585\n",
      "Epoch 20/200\n",
      "30/30 [==============================] - 0s 5ms/step - loss: 1.0521 - accuracy: 0.6723\n",
      "Epoch 21/200\n",
      "30/30 [==============================] - 0s 5ms/step - loss: 1.0072 - accuracy: 0.6745\n",
      "Epoch 22/200\n",
      "30/30 [==============================] - 0s 5ms/step - loss: 0.9873 - accuracy: 0.6840\n",
      "Epoch 23/200\n",
      "30/30 [==============================] - 0s 5ms/step - loss: 0.9717 - accuracy: 0.6713\n",
      "Epoch 24/200\n",
      "30/30 [==============================] - 0s 6ms/step - loss: 0.9306 - accuracy: 0.6947\n",
      "Epoch 25/200\n",
      "30/30 [==============================] - 0s 6ms/step - loss: 0.9105 - accuracy: 0.7117\n",
      "Epoch 26/200\n",
      "30/30 [==============================] - 0s 5ms/step - loss: 0.8778 - accuracy: 0.7287\n",
      "Epoch 27/200\n",
      "30/30 [==============================] - 0s 5ms/step - loss: 0.8567 - accuracy: 0.7340\n",
      "Epoch 28/200\n",
      "30/30 [==============================] - 0s 6ms/step - loss: 0.8437 - accuracy: 0.7298\n",
      "Epoch 29/200\n",
      "30/30 [==============================] - 0s 6ms/step - loss: 0.8296 - accuracy: 0.7404\n",
      "Epoch 30/200\n",
      "30/30 [==============================] - 0s 5ms/step - loss: 0.8123 - accuracy: 0.7298\n",
      "Epoch 31/200\n",
      "30/30 [==============================] - 0s 5ms/step - loss: 0.7875 - accuracy: 0.7468\n",
      "Epoch 32/200\n",
      "30/30 [==============================] - 0s 6ms/step - loss: 0.7792 - accuracy: 0.7383\n",
      "Epoch 33/200\n",
      "30/30 [==============================] - 0s 5ms/step - loss: 0.7442 - accuracy: 0.7670\n",
      "Epoch 34/200\n",
      "30/30 [==============================] - 0s 5ms/step - loss: 0.7327 - accuracy: 0.7606\n",
      "Epoch 35/200\n",
      "30/30 [==============================] - 0s 8ms/step - loss: 0.7168 - accuracy: 0.7660: 0s - loss: 0.7180 - accuracy: 0.\n",
      "Epoch 36/200\n",
      "30/30 [==============================] - 0s 6ms/step - loss: 0.6991 - accuracy: 0.7830\n",
      "Epoch 37/200\n",
      "30/30 [==============================] - 0s 7ms/step - loss: 0.6888 - accuracy: 0.7713\n",
      "Epoch 38/200\n",
      "30/30 [==============================] - 0s 6ms/step - loss: 0.6679 - accuracy: 0.7766\n",
      "Epoch 39/200\n",
      "30/30 [==============================] - 0s 6ms/step - loss: 0.6513 - accuracy: 0.7883\n",
      "Epoch 40/200\n",
      "30/30 [==============================] - 0s 6ms/step - loss: 0.6307 - accuracy: 0.7979\n",
      "Epoch 41/200\n",
      "30/30 [==============================] - 0s 6ms/step - loss: 0.6117 - accuracy: 0.8096\n",
      "Epoch 42/200\n",
      "30/30 [==============================] - ETA: 0s - loss: 0.6136 - accuracy: 0.79 - 0s 6ms/step - loss: 0.6152 - accuracy: 0.7957\n",
      "Epoch 43/200\n",
      "30/30 [==============================] - 0s 7ms/step - loss: 0.6001 - accuracy: 0.8000\n",
      "Epoch 44/200\n",
      "30/30 [==============================] - 0s 6ms/step - loss: 0.5806 - accuracy: 0.8160\n",
      "Epoch 45/200\n",
      "30/30 [==============================] - 0s 7ms/step - loss: 0.5844 - accuracy: 0.8191\n",
      "Epoch 46/200\n",
      "30/30 [==============================] - 0s 7ms/step - loss: 0.5551 - accuracy: 0.8234\n",
      "Epoch 47/200\n",
      "30/30 [==============================] - 0s 6ms/step - loss: 0.5533 - accuracy: 0.8085\n",
      "Epoch 48/200\n",
      "30/30 [==============================] - 0s 8ms/step - loss: 0.5263 - accuracy: 0.8287\n",
      "Epoch 49/200\n",
      "30/30 [==============================] - 0s 6ms/step - loss: 0.5212 - accuracy: 0.8351\n",
      "Epoch 50/200\n",
      "30/30 [==============================] - 0s 6ms/step - loss: 0.5163 - accuracy: 0.8330\n",
      "Epoch 51/200\n",
      "30/30 [==============================] - 0s 7ms/step - loss: 0.5007 - accuracy: 0.8436\n",
      "Epoch 52/200\n",
      "30/30 [==============================] - 0s 5ms/step - loss: 0.4800 - accuracy: 0.8309\n",
      "Epoch 53/200\n",
      "30/30 [==============================] - 0s 5ms/step - loss: 0.4786 - accuracy: 0.8521\n",
      "Epoch 54/200\n",
      "30/30 [==============================] - 0s 5ms/step - loss: 0.4704 - accuracy: 0.8479\n",
      "Epoch 55/200\n",
      "30/30 [==============================] - 0s 5ms/step - loss: 0.4582 - accuracy: 0.8532\n",
      "Epoch 56/200\n",
      "30/30 [==============================] - 0s 5ms/step - loss: 0.4521 - accuracy: 0.8564\n",
      "Epoch 57/200\n",
      "30/30 [==============================] - 0s 5ms/step - loss: 0.4383 - accuracy: 0.8596\n",
      "Epoch 58/200\n",
      "30/30 [==============================] - 0s 5ms/step - loss: 0.4256 - accuracy: 0.8787\n",
      "Epoch 59/200\n",
      "30/30 [==============================] - 0s 5ms/step - loss: 0.4089 - accuracy: 0.8734\n",
      "Epoch 60/200\n",
      "30/30 [==============================] - 0s 5ms/step - loss: 0.4099 - accuracy: 0.8638\n",
      "Epoch 61/200\n",
      "30/30 [==============================] - 0s 5ms/step - loss: 0.4041 - accuracy: 0.8681\n",
      "Epoch 62/200\n",
      "30/30 [==============================] - 0s 7ms/step - loss: 0.3851 - accuracy: 0.8798\n",
      "Epoch 63/200\n",
      "30/30 [==============================] - 0s 5ms/step - loss: 0.3923 - accuracy: 0.8660: 0s - loss: 0.3923 - accuracy: 0.86\n",
      "Epoch 64/200\n",
      "30/30 [==============================] - 0s 5ms/step - loss: 0.3736 - accuracy: 0.8830\n",
      "Epoch 65/200\n",
      "30/30 [==============================] - 0s 6ms/step - loss: 0.3693 - accuracy: 0.8862\n",
      "Epoch 66/200\n",
      "30/30 [==============================] - 0s 5ms/step - loss: 0.3564 - accuracy: 0.8989\n",
      "Epoch 67/200\n",
      "30/30 [==============================] - 0s 5ms/step - loss: 0.3560 - accuracy: 0.8968\n",
      "Epoch 68/200\n",
      "30/30 [==============================] - 0s 6ms/step - loss: 0.3559 - accuracy: 0.8915\n",
      "Epoch 69/200\n",
      "30/30 [==============================] - 0s 6ms/step - loss: 0.3411 - accuracy: 0.8840\n",
      "Epoch 70/200\n",
      "30/30 [==============================] - 0s 6ms/step - loss: 0.3242 - accuracy: 0.8979\n",
      "Epoch 71/200\n",
      "30/30 [==============================] - 0s 6ms/step - loss: 0.3162 - accuracy: 0.8979\n",
      "Epoch 72/200\n",
      "30/30 [==============================] - 0s 5ms/step - loss: 0.3090 - accuracy: 0.9170\n",
      "Epoch 73/200\n",
      "30/30 [==============================] - 0s 6ms/step - loss: 0.3053 - accuracy: 0.9117\n",
      "Epoch 74/200\n",
      "30/30 [==============================] - 0s 6ms/step - loss: 0.2937 - accuracy: 0.9128\n",
      "Epoch 75/200\n",
      "30/30 [==============================] - 0s 5ms/step - loss: 0.2985 - accuracy: 0.8968\n",
      "Epoch 76/200\n",
      "30/30 [==============================] - 0s 5ms/step - loss: 0.2844 - accuracy: 0.9128\n",
      "Epoch 77/200\n",
      "30/30 [==============================] - 0s 5ms/step - loss: 0.2753 - accuracy: 0.9255\n",
      "Epoch 78/200\n",
      "30/30 [==============================] - 0s 5ms/step - loss: 0.2689 - accuracy: 0.9277\n",
      "Epoch 79/200\n",
      "30/30 [==============================] - 0s 5ms/step - loss: 0.2612 - accuracy: 0.9202\n",
      "Epoch 80/200\n",
      "30/30 [==============================] - 0s 5ms/step - loss: 0.2550 - accuracy: 0.9330\n",
      "Epoch 81/200\n",
      "30/30 [==============================] - 0s 6ms/step - loss: 0.2498 - accuracy: 0.9340\n",
      "Epoch 82/200\n",
      "30/30 [==============================] - 0s 5ms/step - loss: 0.2436 - accuracy: 0.9351\n",
      "Epoch 83/200\n",
      "30/30 [==============================] - 0s 5ms/step - loss: 0.2382 - accuracy: 0.9309\n",
      "Epoch 84/200\n",
      "30/30 [==============================] - 0s 5ms/step - loss: 0.2413 - accuracy: 0.9319\n",
      "Epoch 85/200\n",
      "30/30 [==============================] - 0s 5ms/step - loss: 0.2326 - accuracy: 0.9383\n",
      "Epoch 86/200\n",
      "30/30 [==============================] - 0s 5ms/step - loss: 0.2223 - accuracy: 0.9415\n",
      "Epoch 87/200\n",
      "30/30 [==============================] - 0s 5ms/step - loss: 0.2208 - accuracy: 0.9468\n",
      "Epoch 88/200\n",
      "30/30 [==============================] - 0s 5ms/step - loss: 0.2149 - accuracy: 0.9362\n",
      "Epoch 89/200\n",
      "30/30 [==============================] - 0s 5ms/step - loss: 0.2157 - accuracy: 0.9532\n",
      "Epoch 90/200\n",
      "30/30 [==============================] - 0s 5ms/step - loss: 0.2050 - accuracy: 0.9479\n",
      "Epoch 91/200\n",
      "30/30 [==============================] - 0s 5ms/step - loss: 0.2070 - accuracy: 0.9330\n",
      "Epoch 92/200\n",
      "30/30 [==============================] - 0s 5ms/step - loss: 0.2049 - accuracy: 0.9426\n",
      "Epoch 93/200\n",
      "30/30 [==============================] - 0s 5ms/step - loss: 0.1982 - accuracy: 0.9436\n",
      "Epoch 94/200\n",
      "30/30 [==============================] - 0s 6ms/step - loss: 0.1875 - accuracy: 0.9394\n",
      "Epoch 95/200\n",
      "30/30 [==============================] - 0s 6ms/step - loss: 0.1802 - accuracy: 0.9532\n",
      "Epoch 96/200\n",
      "30/30 [==============================] - 0s 6ms/step - loss: 0.1761 - accuracy: 0.9585\n",
      "Epoch 97/200\n",
      "30/30 [==============================] - 0s 6ms/step - loss: 0.1722 - accuracy: 0.9681\n",
      "Epoch 98/200\n",
      "30/30 [==============================] - 0s 6ms/step - loss: 0.1713 - accuracy: 0.9574\n",
      "Epoch 99/200\n",
      "30/30 [==============================] - 0s 6ms/step - loss: 0.1603 - accuracy: 0.9606\n",
      "Epoch 100/200\n",
      "30/30 [==============================] - 0s 6ms/step - loss: 0.1599 - accuracy: 0.9511\n",
      "Epoch 101/200\n",
      "30/30 [==============================] - 0s 5ms/step - loss: 0.1579 - accuracy: 0.9617\n",
      "Epoch 102/200\n",
      "30/30 [==============================] - 0s 5ms/step - loss: 0.1516 - accuracy: 0.9617\n",
      "Epoch 103/200\n",
      "30/30 [==============================] - 0s 5ms/step - loss: 0.1460 - accuracy: 0.9660\n",
      "Epoch 104/200\n",
      "30/30 [==============================] - 0s 5ms/step - loss: 0.1488 - accuracy: 0.9628\n",
      "Epoch 105/200\n",
      "30/30 [==============================] - 0s 5ms/step - loss: 0.1422 - accuracy: 0.9638\n",
      "Epoch 106/200\n",
      "30/30 [==============================] - 0s 5ms/step - loss: 0.1360 - accuracy: 0.9713\n",
      "Epoch 107/200\n",
      "30/30 [==============================] - 0s 5ms/step - loss: 0.1348 - accuracy: 0.9713\n",
      "Epoch 108/200\n",
      "30/30 [==============================] - 0s 5ms/step - loss: 0.1318 - accuracy: 0.9691\n",
      "Epoch 109/200\n",
      "30/30 [==============================] - 0s 6ms/step - loss: 0.1259 - accuracy: 0.9702\n",
      "Epoch 110/200\n",
      "30/30 [==============================] - 0s 5ms/step - loss: 0.1262 - accuracy: 0.9670\n",
      "Epoch 111/200\n",
      "30/30 [==============================] - 0s 6ms/step - loss: 0.1212 - accuracy: 0.9702\n",
      "Epoch 112/200\n",
      "30/30 [==============================] - 0s 6ms/step - loss: 0.1224 - accuracy: 0.9638\n",
      "Epoch 113/200\n",
      "30/30 [==============================] - 0s 5ms/step - loss: 0.1156 - accuracy: 0.9745\n",
      "Epoch 114/200\n",
      "30/30 [==============================] - 0s 5ms/step - loss: 0.1180 - accuracy: 0.9681\n",
      "Epoch 115/200\n",
      "30/30 [==============================] - 0s 5ms/step - loss: 0.1174 - accuracy: 0.9691\n",
      "Epoch 116/200\n",
      "30/30 [==============================] - 0s 6ms/step - loss: 0.1119 - accuracy: 0.9713\n",
      "Epoch 117/200\n",
      "30/30 [==============================] - 0s 5ms/step - loss: 0.1107 - accuracy: 0.9723\n",
      "Epoch 118/200\n",
      "30/30 [==============================] - 0s 9ms/step - loss: 0.1102 - accuracy: 0.9745\n",
      "Epoch 119/200\n",
      "30/30 [==============================] - 0s 8ms/step - loss: 0.1149 - accuracy: 0.9660\n",
      "Epoch 120/200\n",
      "30/30 [==============================] - 0s 6ms/step - loss: 0.1027 - accuracy: 0.9702\n",
      "Epoch 121/200\n",
      "30/30 [==============================] - 0s 6ms/step - loss: 0.0985 - accuracy: 0.9702\n",
      "Epoch 122/200\n",
      "30/30 [==============================] - 0s 5ms/step - loss: 0.0958 - accuracy: 0.9745\n",
      "Epoch 123/200\n",
      "30/30 [==============================] - 0s 6ms/step - loss: 0.1006 - accuracy: 0.9660\n",
      "Epoch 124/200\n",
      "30/30 [==============================] - 0s 5ms/step - loss: 0.0956 - accuracy: 0.9734\n",
      "Epoch 125/200\n",
      "30/30 [==============================] - 0s 7ms/step - loss: 0.0932 - accuracy: 0.9745\n",
      "Epoch 126/200\n",
      "30/30 [==============================] - 0s 8ms/step - loss: 0.0908 - accuracy: 0.9745\n",
      "Epoch 127/200\n",
      "30/30 [==============================] - 0s 8ms/step - loss: 0.0947 - accuracy: 0.9713\n",
      "Epoch 128/200\n",
      "30/30 [==============================] - 0s 8ms/step - loss: 0.0897 - accuracy: 0.9798\n",
      "Epoch 129/200\n",
      "30/30 [==============================] - 0s 8ms/step - loss: 0.0898 - accuracy: 0.9809\n",
      "Epoch 130/200\n",
      "30/30 [==============================] - 0s 7ms/step - loss: 0.0887 - accuracy: 0.9734\n",
      "Epoch 131/200\n",
      "30/30 [==============================] - 0s 7ms/step - loss: 0.0820 - accuracy: 0.9787\n",
      "Epoch 132/200\n",
      "30/30 [==============================] - 0s 6ms/step - loss: 0.0817 - accuracy: 0.9734\n",
      "Epoch 133/200\n",
      "30/30 [==============================] - 0s 6ms/step - loss: 0.0823 - accuracy: 0.9681\n",
      "Epoch 134/200\n",
      "30/30 [==============================] - 0s 6ms/step - loss: 0.0851 - accuracy: 0.9723\n",
      "Epoch 135/200\n",
      "30/30 [==============================] - 0s 5ms/step - loss: 0.0785 - accuracy: 0.9798\n",
      "Epoch 136/200\n",
      "30/30 [==============================] - 0s 5ms/step - loss: 0.0772 - accuracy: 0.9755\n",
      "Epoch 137/200\n",
      "30/30 [==============================] - 0s 5ms/step - loss: 0.0834 - accuracy: 0.9745\n",
      "Epoch 138/200\n",
      "30/30 [==============================] - 0s 5ms/step - loss: 0.0799 - accuracy: 0.9766\n",
      "Epoch 139/200\n",
      "30/30 [==============================] - 0s 6ms/step - loss: 0.0761 - accuracy: 0.9745\n",
      "Epoch 140/200\n",
      "30/30 [==============================] - 0s 6ms/step - loss: 0.0748 - accuracy: 0.9745\n",
      "Epoch 141/200\n",
      "30/30 [==============================] - 0s 6ms/step - loss: 0.0718 - accuracy: 0.9766\n",
      "Epoch 142/200\n",
      "30/30 [==============================] - 0s 5ms/step - loss: 0.0716 - accuracy: 0.9766\n",
      "Epoch 143/200\n",
      "30/30 [==============================] - 0s 6ms/step - loss: 0.0699 - accuracy: 0.9787\n",
      "Epoch 144/200\n",
      "30/30 [==============================] - 0s 5ms/step - loss: 0.0688 - accuracy: 0.9766\n",
      "Epoch 145/200\n",
      "30/30 [==============================] - 0s 6ms/step - loss: 0.0655 - accuracy: 0.9766\n",
      "Epoch 146/200\n",
      "30/30 [==============================] - 0s 7ms/step - loss: 0.0682 - accuracy: 0.9734\n",
      "Epoch 147/200\n",
      "30/30 [==============================] - 0s 13ms/step - loss: 0.0680 - accuracy: 0.9755\n",
      "Epoch 148/200\n",
      "30/30 [==============================] - 0s 5ms/step - loss: 0.0675 - accuracy: 0.9755\n",
      "Epoch 149/200\n",
      "30/30 [==============================] - 0s 5ms/step - loss: 0.0656 - accuracy: 0.9745\n",
      "Epoch 150/200\n",
      "30/30 [==============================] - 0s 12ms/step - loss: 0.0654 - accuracy: 0.9734\n",
      "Epoch 151/200\n",
      "30/30 [==============================] - 0s 7ms/step - loss: 0.0622 - accuracy: 0.9734\n",
      "Epoch 152/200\n",
      "30/30 [==============================] - 0s 6ms/step - loss: 0.0644 - accuracy: 0.9681\n",
      "Epoch 153/200\n",
      "30/30 [==============================] - 0s 6ms/step - loss: 0.0653 - accuracy: 0.9734\n",
      "Epoch 154/200\n",
      "30/30 [==============================] - 0s 6ms/step - loss: 0.0699 - accuracy: 0.9723\n",
      "Epoch 155/200\n",
      "30/30 [==============================] - 0s 6ms/step - loss: 0.0600 - accuracy: 0.9755\n",
      "Epoch 156/200\n",
      "30/30 [==============================] - 0s 9ms/step - loss: 0.0606 - accuracy: 0.9766\n",
      "Epoch 157/200\n",
      "30/30 [==============================] - 0s 8ms/step - loss: 0.0604 - accuracy: 0.9723\n",
      "Epoch 158/200\n",
      "30/30 [==============================] - 0s 7ms/step - loss: 0.0573 - accuracy: 0.9787\n",
      "Epoch 159/200\n",
      "30/30 [==============================] - 0s 6ms/step - loss: 0.0636 - accuracy: 0.9734\n",
      "Epoch 160/200\n",
      "30/30 [==============================] - 0s 5ms/step - loss: 0.0615 - accuracy: 0.9713\n",
      "Epoch 161/200\n",
      "30/30 [==============================] - 0s 5ms/step - loss: 0.0580 - accuracy: 0.9745\n",
      "Epoch 162/200\n"
     ]
    },
    {
     "name": "stdout",
     "output_type": "stream",
     "text": [
      "30/30 [==============================] - 0s 5ms/step - loss: 0.0621 - accuracy: 0.9713\n",
      "Epoch 163/200\n",
      "30/30 [==============================] - 0s 6ms/step - loss: 0.0566 - accuracy: 0.9755\n",
      "Epoch 164/200\n",
      "30/30 [==============================] - 0s 5ms/step - loss: 0.0557 - accuracy: 0.9798\n",
      "Epoch 165/200\n",
      "30/30 [==============================] - 0s 5ms/step - loss: 0.0559 - accuracy: 0.9702\n",
      "Epoch 166/200\n",
      "30/30 [==============================] - 0s 5ms/step - loss: 0.0545 - accuracy: 0.9766\n",
      "Epoch 167/200\n",
      "30/30 [==============================] - 0s 5ms/step - loss: 0.0541 - accuracy: 0.9766\n",
      "Epoch 168/200\n",
      "30/30 [==============================] - 0s 5ms/step - loss: 0.0569 - accuracy: 0.9723\n",
      "Epoch 169/200\n",
      "30/30 [==============================] - 0s 5ms/step - loss: 0.0566 - accuracy: 0.9798\n",
      "Epoch 170/200\n",
      "30/30 [==============================] - 0s 5ms/step - loss: 0.0613 - accuracy: 0.9745\n",
      "Epoch 171/200\n",
      "30/30 [==============================] - 0s 5ms/step - loss: 0.0568 - accuracy: 0.9745\n",
      "Epoch 172/200\n",
      "30/30 [==============================] - 0s 5ms/step - loss: 0.0532 - accuracy: 0.9734\n",
      "Epoch 173/200\n",
      "30/30 [==============================] - 0s 5ms/step - loss: 0.0523 - accuracy: 0.9745\n",
      "Epoch 174/200\n",
      "30/30 [==============================] - 0s 5ms/step - loss: 0.0558 - accuracy: 0.9745\n",
      "Epoch 175/200\n",
      "30/30 [==============================] - 0s 6ms/step - loss: 0.0525 - accuracy: 0.9755\n",
      "Epoch 176/200\n",
      "30/30 [==============================] - 0s 6ms/step - loss: 0.0526 - accuracy: 0.9734\n",
      "Epoch 177/200\n",
      "30/30 [==============================] - 0s 6ms/step - loss: 0.0502 - accuracy: 0.9787\n",
      "Epoch 178/200\n",
      "30/30 [==============================] - 0s 6ms/step - loss: 0.0557 - accuracy: 0.9745\n",
      "Epoch 179/200\n",
      "30/30 [==============================] - 0s 6ms/step - loss: 0.0520 - accuracy: 0.9745\n",
      "Epoch 180/200\n",
      "30/30 [==============================] - 0s 6ms/step - loss: 0.0534 - accuracy: 0.9713\n",
      "Epoch 181/200\n",
      "30/30 [==============================] - 0s 6ms/step - loss: 0.0525 - accuracy: 0.9755\n",
      "Epoch 182/200\n",
      "30/30 [==============================] - 0s 6ms/step - loss: 0.0546 - accuracy: 0.9723\n",
      "Epoch 183/200\n",
      "30/30 [==============================] - 0s 5ms/step - loss: 0.0521 - accuracy: 0.9766\n",
      "Epoch 184/200\n",
      "30/30 [==============================] - 0s 5ms/step - loss: 0.0469 - accuracy: 0.9798\n",
      "Epoch 185/200\n",
      "30/30 [==============================] - 0s 5ms/step - loss: 0.0558 - accuracy: 0.9755\n",
      "Epoch 186/200\n",
      "30/30 [==============================] - 0s 5ms/step - loss: 0.0562 - accuracy: 0.9713\n",
      "Epoch 187/200\n",
      "30/30 [==============================] - 0s 5ms/step - loss: 0.0536 - accuracy: 0.9755\n",
      "Epoch 188/200\n",
      "30/30 [==============================] - 0s 5ms/step - loss: 0.0499 - accuracy: 0.9787\n",
      "Epoch 189/200\n",
      "30/30 [==============================] - 0s 5ms/step - loss: 0.0547 - accuracy: 0.9670\n",
      "Epoch 190/200\n",
      "30/30 [==============================] - 0s 7ms/step - loss: 0.0515 - accuracy: 0.9766\n",
      "Epoch 191/200\n",
      "30/30 [==============================] - 0s 6ms/step - loss: 0.0497 - accuracy: 0.9745\n",
      "Epoch 192/200\n",
      "30/30 [==============================] - 0s 5ms/step - loss: 0.0511 - accuracy: 0.9766\n",
      "Epoch 193/200\n",
      "30/30 [==============================] - 0s 5ms/step - loss: 0.0524 - accuracy: 0.9755\n",
      "Epoch 194/200\n",
      "30/30 [==============================] - 0s 5ms/step - loss: 0.0462 - accuracy: 0.9734\n",
      "Epoch 195/200\n",
      "30/30 [==============================] - 0s 5ms/step - loss: 0.0456 - accuracy: 0.9819\n",
      "Epoch 196/200\n",
      "30/30 [==============================] - 0s 6ms/step - loss: 0.0524 - accuracy: 0.9745: 0s - loss: 0.0510 - accuracy: 0.\n",
      "Epoch 197/200\n",
      "30/30 [==============================] - 0s 6ms/step - loss: 0.0457 - accuracy: 0.9755\n",
      "Epoch 198/200\n",
      "30/30 [==============================] - 0s 8ms/step - loss: 0.0469 - accuracy: 0.9755\n",
      "Epoch 199/200\n",
      "30/30 [==============================] - 0s 7ms/step - loss: 0.0478 - accuracy: 0.9734\n",
      "Epoch 200/200\n",
      "30/30 [==============================] - 0s 5ms/step - loss: 0.0473 - accuracy: 0.9766\n"
     ]
    }
   ],
   "source": [
    "# Train the model\n",
    "hstr = model.fit(X_train, y_train, epochs=200, verbose=1)"
   ]
  },
  {
   "cell_type": "code",
   "execution_count": 58,
   "id": "d03fad5e",
   "metadata": {},
   "outputs": [
    {
     "data": {
      "text/plain": [
       "array([13, 28,  4, 10, 31, 24, 16, 21, 31,  2,  9,  5,  7,  9, 30, 26,  2,\n",
       "        5,  7, 13, 15, 16, 17, 13,  5, 16, 12, 16, 28,  3, 20, 35, 18, 32,\n",
       "        8, 35,  4, 25,  8,  4, 22, 18, 11, 22, 25,  6,  7, 35, 31, 30, 16,\n",
       "       19,  3, 17, 25, 25, 17,  7, 16, 19,  3,  1, 30, 11,  1, 33,  6, 12,\n",
       "       10, 29, 24, 26, 27, 15, 22, 18, 19,  4, 24, 16, 17,  3,  8, 19, 14,\n",
       "       31, 19, 27, 21, 12, 30, 17, 32, 19, 29, 32, 17, 23, 12, 31, 27, 28,\n",
       "        7, 28, 29, 18,  9,  6, 17,  7, 26, 13, 23, 32, 32,  0, 17, 27,  3,\n",
       "       25, 23, 18, 23, 12, 34, 13,  8,  1,  0, 22, 10, 29, 11, 18, 13, 34,\n",
       "       12,  8, 28, 14, 35, 33, 29, 32, 16, 14, 20,  4, 26,  6, 20, 12, 24,\n",
       "       19,  7, 13, 18,  0, 24, 30, 18, 14,  1,  4, 20, 33,  2,  9, 12,  3,\n",
       "       18,  5, 32,  1, 11, 14, 17, 26, 32, 35,  4,  4,  7, 32, 27,  8, 18,\n",
       "       34, 10, 17, 29, 19, 31, 24, 15, 18, 29, 26,  5, 17, 15, 19, 12,  1,\n",
       "        9, 19,  9, 18, 22, 27, 29, 33, 12,  4, 30,  8,  5,  0, 30, 24, 32,\n",
       "        4, 14, 26, 15, 19, 11, 19, 10, 28, 26, 29, 14, 26, 14, 33, 13,  9,\n",
       "       35, 33, 21, 15,  1,  9, 35, 33, 15, 14, 19, 21, 34, 15, 16, 11, 27,\n",
       "       28, 12, 33,  8, 27,  2,  9,  3, 28, 22, 35, 34,  0,  4, 15, 32, 11,\n",
       "       20, 17, 17, 11, 10, 16,  5, 12, 32, 34, 32,  6,  3,  0, 26, 21, 18,\n",
       "        3, 33, 14, 23, 28,  7, 27, 17,  1,  1, 21, 25, 20, 16, 19,  8, 21,\n",
       "       14, 15, 17,  5, 28, 26,  9,  5, 23, 15, 26, 21, 22, 16,  5, 34,  8,\n",
       "       19,  2, 17, 28, 14, 18, 14, 21, 33, 22,  9, 28, 10, 11, 22, 23, 19,\n",
       "       34,  0,  5,  1, 35, 13, 20, 13,  6, 22, 31, 12,  9, 20,  9, 34, 30,\n",
       "       29,  0,  4, 16, 20,  4, 17, 16,  3, 12, 23, 28, 15, 31,  9, 15, 33,\n",
       "       32, 10, 10,  7,  3, 21, 31,  3, 10,  7, 29,  9, 30, 22, 25, 29, 10,\n",
       "       27, 18, 30, 23,  2, 31,  2, 12, 31,  0, 26,  6,  4,  6,  5, 31,  0,\n",
       "       22, 22, 19, 32, 28,  0, 33,  9, 25, 23, 34, 10, 14, 17,  1,  0,  9,\n",
       "       20,  5, 18, 34, 19, 16, 27,  5, 27, 14, 13, 16,  0, 26, 12,  1, 17,\n",
       "        9, 23, 35, 31, 23, 10, 15, 10, 20, 23, 35,  4, 26, 24, 19, 16,  2,\n",
       "       11, 11, 32, 11,  5], dtype=int64)"
      ]
     },
     "execution_count": 58,
     "metadata": {},
     "output_type": "execute_result"
    }
   ],
   "source": [
    "y_test"
   ]
  },
  {
   "cell_type": "code",
   "execution_count": 353,
   "id": "26dc7038",
   "metadata": {},
   "outputs": [],
   "source": [
    "probability_model = tf.keras.Sequential([model, \n",
    "                                         tf.keras.layers.Softmax()])\n",
    "predictions = probability_model.predict(X_test)"
   ]
  },
  {
   "cell_type": "code",
   "execution_count": 354,
   "id": "d183b5c9",
   "metadata": {},
   "outputs": [
    {
     "name": "stdout",
     "output_type": "stream",
     "text": [
      "[2.18697032e-03 4.26555587e-19 1.74892542e-19 6.21489107e-22\n",
      " 4.69197730e-08 1.38803074e-23 2.48456163e-05 1.35366106e-14\n",
      " 8.78638327e-17 1.28856700e-14 6.46219961e-03 6.62348248e-05\n",
      " 6.58847217e-13 1.98940933e-02 1.38106261e-18 4.90421180e-13\n",
      " 1.49366069e-05 1.94653035e-06 6.49472232e-20 3.40892759e-27\n",
      " 1.29540781e-14 3.70662799e-20 7.38193194e-06 1.38949305e-08\n",
      " 3.40788695e-03 9.67930555e-01 1.35184820e-07 1.30995359e-09\n",
      " 6.60022278e-27 4.16191748e-18 2.82338283e-06 1.57977320e-14\n",
      " 1.55947269e-10 3.75354859e-31 9.97262873e-23 4.38125622e-21]\n",
      "25\n",
      "13\n"
     ]
    }
   ],
   "source": [
    "print(predictions[0],\n",
    "      np.argmax(predictions[0]),\n",
    "      y_test[0],\n",
    "      sep='\\n')"
   ]
  },
  {
   "cell_type": "markdown",
   "id": "615405b6",
   "metadata": {},
   "source": [
    "### The model made a mistake in the letter \"D\", mistaking it for the letter \"P\". Let's look at the letters \"P\" from the training dataset."
   ]
  },
  {
   "cell_type": "markdown",
   "id": "26eb497f",
   "metadata": {},
   "source": [
    "####  y_test[0] has the form"
   ]
  },
  {
   "cell_type": "code",
   "execution_count": 374,
   "id": "7ef78eb1",
   "metadata": {},
   "outputs": [
    {
     "data": {
      "text/plain": [
       "'D'"
      ]
     },
     "execution_count": 374,
     "metadata": {},
     "output_type": "execute_result"
    }
   ],
   "source": [
    "classes[y_test[0]]"
   ]
  },
  {
   "cell_type": "code",
   "execution_count": 359,
   "id": "84e1b47e",
   "metadata": {},
   "outputs": [
    {
     "data": {
      "image/png": "[encoded data removed]",
      "text/plain": [
       "<Figure size 432x288 with 2 Axes>"
      ]
     },
     "metadata": {
      "needs_background": "light"
     },
     "output_type": "display_data"
    }
   ],
   "source": [
    "plt.figure()\n",
    "plt.imshow(X_test[0])\n",
    "plt.colorbar()\n",
    "plt.grid(False)\n",
    "plt.show()"
   ]
  },
  {
   "cell_type": "markdown",
   "id": "6d830cb8",
   "metadata": {},
   "source": [
    "####  predictions[0] has the form"
   ]
  },
  {
   "cell_type": "code",
   "execution_count": 361,
   "id": "836c2789",
   "metadata": {},
   "outputs": [
    {
     "data": {
      "text/plain": [
       "'P'"
      ]
     },
     "execution_count": 361,
     "metadata": {},
     "output_type": "execute_result"
    }
   ],
   "source": [
    "classes[np.argmax(predictions[0])]"
   ]
  },
  {
   "cell_type": "code",
   "execution_count": 364,
   "id": "8505f3c9",
   "metadata": {},
   "outputs": [
    {
     "name": "stdout",
     "output_type": "stream",
     "text": [
      "[34, 51, 56, 86, 88, 98, 189, 206, 226, 231, 356, 357, 360, 419, 448, 454, 500, 501, 596, 604, 648, 677, 683, 704, 711, 742, 773, 817, 822, 876, 930]\n"
     ]
    }
   ],
   "source": [
    "print([i for i in range(len(X_train)) if y_train[i] == 25])"
   ]
  },
  {
   "cell_type": "code",
   "execution_count": 373,
   "id": "4e88ec1c",
   "metadata": {},
   "outputs": [
    {
     "data": {
      "image/png": "[encoded data removed]",
      "text/plain": [
       "<Figure size 1080x576 with 30 Axes>"
      ]
     },
     "metadata": {},
     "output_type": "display_data"
    }
   ],
   "source": [
    "fig, axes = plt.subplots(5, 6, figsize=(15, 8))\n",
    "fig.suptitle('binary letters \"P\" from the training set', fontsize=20)\n",
    "n = [34, 51, 56, 86, 88, 98, 189, 206, 226, 231, 356, 357, 360, 419, 448, 454, 500,\n",
    "     501, 596, 604, 648, 677, 683, 704, 711, 742, 773, 817, 822, 876]\n",
    "i = 0\n",
    "for ax in axes.flat:\n",
    "    ax.set_yticks([])\n",
    "    ax.set_xticks([])\n",
    "    ax.imshow(X_train[n[i]], cmap=plt.cm.binary)\n",
    "    ax.set_xlabel(classes[y_train[n[i]]])\n",
    "    i += 1"
   ]
  },
  {
   "cell_type": "code",
   "execution_count": 369,
   "id": "bcaf4c17",
   "metadata": {},
   "outputs": [
    {
     "data": {
      "image/png": "[encoded data removed]",
      "text/plain": [
       "<Figure size 432x288 with 2 Axes>"
      ]
     },
     "metadata": {
      "needs_background": "light"
     },
     "output_type": "display_data"
    }
   ],
   "source": [
    "plt.figure()\n",
    "plt.imshow(X_train[88])\n",
    "plt.colorbar()\n",
    "plt.grid(False)\n",
    "plt.show()"
   ]
  },
  {
   "cell_type": "code",
   "execution_count": 355,
   "id": "c5c2b927",
   "metadata": {},
   "outputs": [
    {
     "name": "stdout",
     "output_type": "stream",
     "text": [
      "15/15 [==============================] - 0s 2ms/step - loss: 2.4385 - accuracy: 0.6659\n"
     ]
    },
    {
     "data": {
      "text/plain": [
       "[2.438476800918579, 0.6659482717514038]"
      ]
     },
     "execution_count": 355,
     "metadata": {},
     "output_type": "execute_result"
    }
   ],
   "source": [
    "# Evaluate the model.\n",
    "model.evaluate(\n",
    "  X_test,\n",
    "  y_test\n",
    ")"
   ]
  },
  {
   "cell_type": "code",
   "execution_count": 356,
   "id": "179a0d77",
   "metadata": {},
   "outputs": [
    {
     "data": {
      "text/plain": [
       "array([25,  5,  4, 32, 31,  0, 26, 21, 31,  2,  7, 12,  7, 26, 30, 26,  2,\n",
       "       28,  7,  0, 20, 15, 17, 13,  5, 26, 12, 11, 19,  3, 20, 13,  2, 32,\n",
       "        8, 35,  4, 25,  5,  6, 22, 18,  3, 22, 25,  6,  7, 35, 31, 30, 16,\n",
       "       19,  3, 17, 25, 10, 22,  7, 16,  5, 28,  1, 32, 11,  1,  8, 32, 12,\n",
       "       20, 12,  0, 26,  8, 12, 23, 19, 19,  4,  0, 16, 17,  3,  8, 19, 14,\n",
       "       31, 29, 27, 21, 12, 30,  4, 33, 19, 29, 32, 22, 23, 12, 31, 10,  3,\n",
       "       13,  3, 29, 18, 15,  6, 17,  7,  4, 13, 22, 32, 32, 24, 25, 14,  3,\n",
       "       25, 32,  1, 32, 12, 34,  2, 16,  1, 24, 10, 10, 12,  6,  7, 13, 34,\n",
       "       12, 35, 28, 14, 35, 33, 29, 31, 16, 14, 33,  4, 26,  6, 20, 12,  0,\n",
       "       19,  7, 13, 18,  0,  0, 31, 18, 14,  1, 20,  4, 33,  2,  7, 12, 35,\n",
       "       19,  5, 32,  1, 11, 29, 17, 26, 32, 35,  4,  4,  7, 32, 27,  8, 35,\n",
       "       33, 10, 17, 29, 13, 31,  0, 15, 18, 20, 26,  5, 17, 15, 13, 12,  1,\n",
       "        9,  3,  9,  2, 10, 27, 29, 20, 12, 10, 13, 27, 19, 24, 30,  0, 32,\n",
       "        4, 14, 26, 15, 19, 27, 19, 10, 28,  6, 13, 14, 26, 14, 33, 13, 25,\n",
       "       35,  1, 21, 15,  1,  9,  2, 33, 15, 14, 13,  6, 34, 15, 16, 11, 27,\n",
       "        5, 12, 15,  8, 27, 35, 10,  3, 13, 22,  2,  1, 24,  4, 15, 32, 11,\n",
       "       20, 17, 22,  8, 10, 26,  5, 12, 32, 34, 32,  6,  3, 24, 26, 21, 18,\n",
       "        3, 33, 14, 23, 28,  7, 27,  8,  1,  1, 20, 25, 17, 29, 19, 33, 21,\n",
       "       14, 15, 17,  5, 21, 26, 26,  5, 10, 15, 13, 21, 22, 15,  3, 34,  8,\n",
       "       19, 18, 17, 28, 14, 18, 14,  2,  1, 22,  9, 28, 10, 25, 22, 17, 19,\n",
       "       34,  0,  5, 33, 35, 13, 20, 13, 16, 22, 30, 12,  9, 10,  9, 34, 30,\n",
       "       29, 24,  4,  6, 20,  4, 17,  6,  3, 12,  1, 28, 15, 31,  9, 10, 33,\n",
       "       32, 10, 10,  7,  3,  6, 31,  3, 10,  7, 29,  9, 30, 22, 25, 29, 10,\n",
       "       15,  2, 30,  1,  2, 23,  2, 12,  4, 24, 26,  6,  4,  6,  5, 31,  0,\n",
       "       29, 22, 19, 32,  8, 24, 33,  9, 25, 23, 34, 16, 14,  4,  1, 24,  9,\n",
       "       20,  5, 18,  4, 19, 16, 14,  5, 20, 14, 13, 16, 24, 26, 12,  1,  4,\n",
       "        9, 23, 35, 30, 23,  9, 15, 10, 20, 23,  2,  4, 26,  0, 19, 10,  2,\n",
       "       11, 11, 32, 11,  5], dtype=int64)"
      ]
     },
     "execution_count": 356,
     "metadata": {},
     "output_type": "execute_result"
    }
   ],
   "source": [
    "np.argmax(predictions, axis=1)"
   ]
  },
  {
   "cell_type": "code",
   "execution_count": 357,
   "id": "be83ea0c",
   "metadata": {},
   "outputs": [
    {
     "name": "stdout",
     "output_type": "stream",
     "text": [
      "              precision    recall  f1-score   support\n",
      "\n",
      "           0       0.25      0.23      0.24        13\n",
      "           1       0.65      0.92      0.76        12\n",
      "           2       0.43      0.75      0.55         8\n",
      "           3       0.67      0.83      0.74        12\n",
      "           4       0.63      0.80      0.71        15\n",
      "           5       0.73      0.73      0.73        15\n",
      "           6       0.46      0.75      0.57         8\n",
      "           7       0.77      0.91      0.83        11\n",
      "           8       0.50      0.50      0.50        10\n",
      "           9       0.92      0.61      0.73        18\n",
      "          10       0.50      0.71      0.59        14\n",
      "          11       0.88      0.58      0.70        12\n",
      "          12       0.80      1.00      0.89        16\n",
      "          13       0.47      0.73      0.57        11\n",
      "          14       0.88      0.93      0.90        15\n",
      "          15       0.69      0.79      0.73        14\n",
      "          16       0.70      0.41      0.52        17\n",
      "          17       0.85      0.58      0.69        19\n",
      "          18       0.89      0.50      0.64        16\n",
      "          19       0.76      0.68      0.72        19\n",
      "          20       0.50      0.64      0.56        11\n",
      "          21       0.86      0.60      0.71        10\n",
      "          22       0.69      0.69      0.69        13\n",
      "          23       0.75      0.46      0.57        13\n",
      "          24       0.00      0.00      0.00         8\n",
      "          25       0.64      0.88      0.74         8\n",
      "          26       0.71      0.80      0.75        15\n",
      "          27       0.75      0.50      0.60        12\n",
      "          28       0.75      0.43      0.55        14\n",
      "          29       0.67      0.67      0.67        12\n",
      "          30       0.78      0.70      0.74        10\n",
      "          31       0.82      0.69      0.75        13\n",
      "          32       0.74      0.88      0.80        16\n",
      "          33       0.58      0.58      0.58        12\n",
      "          34       1.00      0.73      0.84        11\n",
      "          35       0.64      0.64      0.64        11\n",
      "\n",
      "    accuracy                           0.67       464\n",
      "   macro avg       0.67      0.66      0.65       464\n",
      "weighted avg       0.70      0.67      0.67       464\n",
      "\n"
     ]
    }
   ],
   "source": [
    "print(classification_report(y_test, np.argmax(predictions, axis=1)))"
   ]
  },
  {
   "cell_type": "code",
   "execution_count": 358,
   "id": "b5b692ca",
   "metadata": {},
   "outputs": [
    {
     "name": "stdout",
     "output_type": "stream",
     "text": [
      "[[[442   9]\n",
      "  [ 10   3]]\n",
      "\n",
      " [[446   6]\n",
      "  [  1  11]]\n",
      "\n",
      " [[448   8]\n",
      "  [  2   6]]\n",
      "\n",
      " [[447   5]\n",
      "  [  2  10]]\n",
      "\n",
      " [[442   7]\n",
      "  [  3  12]]\n",
      "\n",
      " [[445   4]\n",
      "  [  4  11]]\n",
      "\n",
      " [[449   7]\n",
      "  [  2   6]]\n",
      "\n",
      " [[450   3]\n",
      "  [  1  10]]\n",
      "\n",
      " [[449   5]\n",
      "  [  5   5]]\n",
      "\n",
      " [[445   1]\n",
      "  [  7  11]]\n",
      "\n",
      " [[440  10]\n",
      "  [  4  10]]\n",
      "\n",
      " [[451   1]\n",
      "  [  5   7]]\n",
      "\n",
      " [[444   4]\n",
      "  [  0  16]]\n",
      "\n",
      " [[444   9]\n",
      "  [  3   8]]\n",
      "\n",
      " [[447   2]\n",
      "  [  1  14]]\n",
      "\n",
      " [[445   5]\n",
      "  [  3  11]]\n",
      "\n",
      " [[444   3]\n",
      "  [ 10   7]]\n",
      "\n",
      " [[443   2]\n",
      "  [  8  11]]\n",
      "\n",
      " [[447   1]\n",
      "  [  8   8]]\n",
      "\n",
      " [[441   4]\n",
      "  [  6  13]]\n",
      "\n",
      " [[446   7]\n",
      "  [  4   7]]\n",
      "\n",
      " [[453   1]\n",
      "  [  4   6]]\n",
      "\n",
      " [[447   4]\n",
      "  [  4   9]]\n",
      "\n",
      " [[449   2]\n",
      "  [  7   6]]\n",
      "\n",
      " [[446  10]\n",
      "  [  8   0]]\n",
      "\n",
      " [[452   4]\n",
      "  [  1   7]]\n",
      "\n",
      " [[444   5]\n",
      "  [  3  12]]\n",
      "\n",
      " [[450   2]\n",
      "  [  6   6]]\n",
      "\n",
      " [[448   2]\n",
      "  [  8   6]]\n",
      "\n",
      " [[448   4]\n",
      "  [  4   8]]\n",
      "\n",
      " [[452   2]\n",
      "  [  3   7]]\n",
      "\n",
      " [[449   2]\n",
      "  [  4   9]]\n",
      "\n",
      " [[443   5]\n",
      "  [  2  14]]\n",
      "\n",
      " [[447   5]\n",
      "  [  5   7]]\n",
      "\n",
      " [[453   0]\n",
      "  [  3   8]]\n",
      "\n",
      " [[449   4]\n",
      "  [  4   7]]]\n"
     ]
    }
   ],
   "source": [
    "print(multilabel_confusion_matrix(y_test, np.argmax(predictions, axis=1)))"
   ]
  },
  {
   "cell_type": "markdown",
   "id": "c9509fb0",
   "metadata": {},
   "source": [
    "---"
   ]
  },
  {
   "cell_type": "markdown",
   "id": "628f4873",
   "metadata": {},
   "source": [
    "### Find optimal hyperparameter values using kerasTuner"
   ]
  },
  {
   "cell_type": "code",
   "execution_count": 319,
   "id": "833392e3",
   "metadata": {},
   "outputs": [],
   "source": [
    "def build_model(hp):\n",
    "    model = keras.Sequential()\n",
    "    model.add(keras.layers.Flatten(input_shape=(20, 16)))\n",
    "\n",
    "    hp_units = hp.Int('units', min_value=32, max_value=512, step=32)\n",
    "    model.add(keras.layers.Dense(units=hp_units, activation='relu'))\n",
    "    model.add(keras.layers.Dense(36, activation='softmax'))\n",
    "    model.compile(\n",
    "        optimizer=keras.optimizers.Adam(\n",
    "            hp.Choice('learning_rate',\n",
    "                      values=[1e-0, 1e-1, 1e-2, 1e-3, 1e-4])),\n",
    "        loss='sparse_categorical_crossentropy',\n",
    "        metrics=['accuracy'])\n",
    "    return model"
   ]
  },
  {
   "cell_type": "code",
   "execution_count": 320,
   "id": "21c8b2c0",
   "metadata": {},
   "outputs": [
    {
     "name": "stdout",
     "output_type": "stream",
     "text": [
      "INFO:tensorflow:Reloading Oracle from existing project my_dir9\\intro_to_kt\\oracle.json\n",
      "INFO:tensorflow:Reloading Tuner from my_dir9\\intro_to_kt\\tuner0.json\n"
     ]
    }
   ],
   "source": [
    "tuner = kt.Hyperband(build_model,\n",
    "                     objective='accuracy',\n",
    "                     max_epochs=20,\n",
    "                     factor=3,\n",
    "                     directory='my_dir9',\n",
    "                     project_name='intro_to_kt')"
   ]
  },
  {
   "cell_type": "code",
   "execution_count": 321,
   "id": "eb16931d",
   "metadata": {},
   "outputs": [
    {
     "name": "stdout",
     "output_type": "stream",
     "text": [
      "INFO:tensorflow:Oracle triggered exit\n",
      "WARNING:tensorflow:Unresolved object in checkpoint: (root).optimizer.iter\n",
      "WARNING:tensorflow:Unresolved object in checkpoint: (root).optimizer.beta_1\n",
      "WARNING:tensorflow:Unresolved object in checkpoint: (root).optimizer.beta_2\n",
      "WARNING:tensorflow:Unresolved object in checkpoint: (root).optimizer.decay\n",
      "WARNING:tensorflow:Unresolved object in checkpoint: (root).optimizer.learning_rate\n",
      "WARNING:tensorflow:A checkpoint was restored (e.g. tf.train.Checkpoint.restore or tf.keras.Model.load_weights) but not all checkpointed values were used. See above for specific issues. Use expect_partial() on the load status object, e.g. tf.train.Checkpoint.restore(...).expect_partial(), to silence these warnings, or use assert_consumed() to make the check explicit. See https://www.tensorflow.org/guide/checkpoint#loading_mechanics for details.\n",
      "WARNING:tensorflow:Unresolved object in checkpoint: (root).optimizer.iter\n",
      "WARNING:tensorflow:Unresolved object in checkpoint: (root).optimizer.beta_1\n",
      "WARNING:tensorflow:Unresolved object in checkpoint: (root).optimizer.beta_2\n",
      "WARNING:tensorflow:Unresolved object in checkpoint: (root).optimizer.decay\n",
      "WARNING:tensorflow:Unresolved object in checkpoint: (root).optimizer.learning_rate\n",
      "WARNING:tensorflow:A checkpoint was restored (e.g. tf.train.Checkpoint.restore or tf.keras.Model.load_weights) but not all checkpointed values were used. See above for specific issues. Use expect_partial() on the load status object, e.g. tf.train.Checkpoint.restore(...).expect_partial(), to silence these warnings, or use assert_consumed() to make the check explicit. See https://www.tensorflow.org/guide/checkpoint#loading_mechanics for details.\n",
      "Results summary\n",
      "Results in my_dir9\\intro_to_kt\n",
      "Showing 10 best trials\n",
      "Objective(name='accuracy', direction='max')\n",
      "Trial summary\n",
      "Hyperparameters:\n",
      "units: 256\n",
      "learning_rate: 0.01\n",
      "tuner/epochs: 20\n",
      "tuner/initial_epoch: 7\n",
      "tuner/bracket: 2\n",
      "tuner/round: 2\n",
      "tuner/trial_id: 5b985e81d9a9137cb9e105561bdaeb5d\n",
      "Score: 0.7478723526000977\n",
      "Trial summary\n",
      "Hyperparameters:\n",
      "units: 128\n",
      "learning_rate: 0.01\n",
      "tuner/epochs: 20\n",
      "tuner/initial_epoch: 7\n",
      "tuner/bracket: 1\n",
      "tuner/round: 1\n",
      "tuner/trial_id: e5cb77c81872922d0777b678a15827fb\n",
      "Score: 0.6776595711708069\n",
      "Trial summary\n",
      "Hyperparameters:\n",
      "units: 384\n",
      "learning_rate: 0.001\n",
      "tuner/epochs: 20\n",
      "tuner/initial_epoch: 0\n",
      "tuner/bracket: 0\n",
      "tuner/round: 0\n",
      "Score: 0.5755318999290466\n",
      "Trial summary\n",
      "Hyperparameters:\n",
      "units: 128\n",
      "learning_rate: 0.01\n",
      "tuner/epochs: 7\n",
      "tuner/initial_epoch: 0\n",
      "tuner/bracket: 1\n",
      "tuner/round: 0\n",
      "Score: 0.5691489577293396\n",
      "Trial summary\n",
      "Hyperparameters:\n",
      "units: 256\n",
      "learning_rate: 0.01\n",
      "tuner/epochs: 7\n",
      "tuner/initial_epoch: 3\n",
      "tuner/bracket: 2\n",
      "tuner/round: 1\n",
      "tuner/trial_id: fee41f655c531f6abefc7d3786802e23\n",
      "Score: 0.4095744788646698\n",
      "Trial summary\n",
      "Hyperparameters:\n",
      "units: 288\n",
      "learning_rate: 0.1\n",
      "tuner/epochs: 7\n",
      "tuner/initial_epoch: 3\n",
      "tuner/bracket: 2\n",
      "tuner/round: 1\n",
      "tuner/trial_id: 06caa3f0e21216e6d337e1bd8e8d196c\n",
      "Score: 0.38085106015205383\n",
      "Trial summary\n",
      "Hyperparameters:\n",
      "units: 192\n",
      "learning_rate: 0.001\n",
      "tuner/epochs: 20\n",
      "tuner/initial_epoch: 7\n",
      "tuner/bracket: 1\n",
      "tuner/round: 1\n",
      "tuner/trial_id: d23c852d5c645f74df1c10cb478969b4\n",
      "Score: 0.37021276354789734\n",
      "Trial summary\n",
      "Hyperparameters:\n",
      "units: 224\n",
      "learning_rate: 0.01\n",
      "tuner/epochs: 7\n",
      "tuner/initial_epoch: 3\n",
      "tuner/bracket: 2\n",
      "tuner/round: 1\n",
      "tuner/trial_id: d177847227c8c11a2510c57e1b20911c\n",
      "Score: 0.368085116147995\n",
      "Trial summary\n",
      "Hyperparameters:\n",
      "units: 224\n",
      "learning_rate: 0.01\n",
      "tuner/epochs: 3\n",
      "tuner/initial_epoch: 0\n",
      "tuner/bracket: 2\n",
      "tuner/round: 0\n",
      "Score: 0.32446807622909546\n",
      "Trial summary\n",
      "Hyperparameters:\n",
      "units: 256\n",
      "learning_rate: 0.01\n",
      "tuner/epochs: 3\n",
      "tuner/initial_epoch: 0\n",
      "tuner/bracket: 2\n",
      "tuner/round: 0\n",
      "Score: 0.27978724241256714\n"
     ]
    }
   ],
   "source": [
    "# %%time\n",
    "tuner.search(X_train, y_train)\n",
    "\n",
    "models = tuner.get_best_models(num_models=2)\n",
    "\n",
    "tuner.results_summary()"
   ]
  },
  {
   "cell_type": "code",
   "execution_count": 322,
   "id": "18b3b6dd",
   "metadata": {},
   "outputs": [
    {
     "name": "stdout",
     "output_type": "stream",
     "text": [
      "\n",
      "The hyperparameter search is complete. The optimal number of units in the first densely-connected\n",
      "layer is 256 and the optimal learning rate for the optimizer\n",
      "is 0.01.\n",
      "\n"
     ]
    }
   ],
   "source": [
    "best_hps=tuner.get_best_hyperparameters(num_trials=1)[0]\n",
    "\n",
    "print(f\"\"\"\n",
    "The hyperparameter search is complete. The optimal number of units in the first densely-connected\n",
    "layer is {best_hps.get('units')} and the optimal learning rate for the optimizer\n",
    "is {best_hps.get('learning_rate')}.\n",
    "\"\"\")"
   ]
  },
  {
   "cell_type": "code",
   "execution_count": 323,
   "id": "b823d524",
   "metadata": {},
   "outputs": [
    {
     "name": "stdout",
     "output_type": "stream",
     "text": [
      "Epoch 1/50\n",
      "24/24 [==============================] - 0s 9ms/step - loss: 3.5815 - accuracy: 0.0559 - val_loss: 3.5557 - val_accuracy: 0.1223\n",
      "Epoch 2/50\n",
      "24/24 [==============================] - 0s 3ms/step - loss: 3.4779 - accuracy: 0.1689 - val_loss: 3.4282 - val_accuracy: 0.1383\n",
      "Epoch 3/50\n",
      "24/24 [==============================] - 0s 2ms/step - loss: 3.2057 - accuracy: 0.1995 - val_loss: 3.1282 - val_accuracy: 0.1862\n",
      "Epoch 4/50\n",
      "24/24 [==============================] - 0s 2ms/step - loss: 2.7770 - accuracy: 0.3364 - val_loss: 2.7260 - val_accuracy: 0.2872\n",
      "Epoch 5/50\n",
      "24/24 [==============================] - 0s 2ms/step - loss: 2.3306 - accuracy: 0.4189 - val_loss: 2.3555 - val_accuracy: 0.3511\n",
      "Epoch 6/50\n",
      "24/24 [==============================] - 0s 2ms/step - loss: 1.9674 - accuracy: 0.5040 - val_loss: 2.0701 - val_accuracy: 0.4362\n",
      "Epoch 7/50\n",
      "24/24 [==============================] - 0s 2ms/step - loss: 1.6952 - accuracy: 0.5771 - val_loss: 1.9040 - val_accuracy: 0.4309\n",
      "Epoch 8/50\n",
      "24/24 [==============================] - 0s 2ms/step - loss: 1.5182 - accuracy: 0.6011 - val_loss: 1.8001 - val_accuracy: 0.4415\n",
      "Epoch 9/50\n",
      "24/24 [==============================] - 0s 2ms/step - loss: 1.3771 - accuracy: 0.6303 - val_loss: 1.6668 - val_accuracy: 0.4787\n",
      "Epoch 10/50\n",
      "24/24 [==============================] - 0s 2ms/step - loss: 1.2324 - accuracy: 0.6729 - val_loss: 1.5705 - val_accuracy: 0.5798\n",
      "Epoch 11/50\n",
      "24/24 [==============================] - 0s 2ms/step - loss: 1.1491 - accuracy: 0.7074 - val_loss: 1.5297 - val_accuracy: 0.5053\n",
      "Epoch 12/50\n",
      "24/24 [==============================] - 0s 2ms/step - loss: 1.0520 - accuracy: 0.7141 - val_loss: 1.4679 - val_accuracy: 0.5745\n",
      "Epoch 13/50\n",
      "24/24 [==============================] - 0s 2ms/step - loss: 1.0058 - accuracy: 0.7287 - val_loss: 1.4349 - val_accuracy: 0.5745\n",
      "Epoch 14/50\n",
      "24/24 [==============================] - 0s 2ms/step - loss: 0.9231 - accuracy: 0.7527 - val_loss: 1.3861 - val_accuracy: 0.5851\n",
      "Epoch 15/50\n",
      "24/24 [==============================] - 0s 2ms/step - loss: 0.8804 - accuracy: 0.7633 - val_loss: 1.3693 - val_accuracy: 0.5638\n",
      "Epoch 16/50\n",
      "24/24 [==============================] - 0s 2ms/step - loss: 0.8388 - accuracy: 0.7580 - val_loss: 1.3735 - val_accuracy: 0.5532\n",
      "Epoch 17/50\n",
      "24/24 [==============================] - 0s 2ms/step - loss: 0.7967 - accuracy: 0.7872 - val_loss: 1.3270 - val_accuracy: 0.5691\n",
      "Epoch 18/50\n",
      "24/24 [==============================] - 0s 2ms/step - loss: 0.7497 - accuracy: 0.7965 - val_loss: 1.3289 - val_accuracy: 0.6011\n",
      "Epoch 19/50\n",
      "24/24 [==============================] - 0s 2ms/step - loss: 0.7264 - accuracy: 0.7859 - val_loss: 1.2948 - val_accuracy: 0.6117\n",
      "Epoch 20/50\n",
      "24/24 [==============================] - 0s 2ms/step - loss: 0.6860 - accuracy: 0.8165 - val_loss: 1.2968 - val_accuracy: 0.5851\n",
      "Epoch 21/50\n",
      "24/24 [==============================] - 0s 2ms/step - loss: 0.6556 - accuracy: 0.8245 - val_loss: 1.2689 - val_accuracy: 0.6011\n",
      "Epoch 22/50\n",
      "24/24 [==============================] - 0s 3ms/step - loss: 0.6462 - accuracy: 0.8285 - val_loss: 1.2688 - val_accuracy: 0.6117\n",
      "Epoch 23/50\n",
      "24/24 [==============================] - 0s 2ms/step - loss: 0.6091 - accuracy: 0.8324 - val_loss: 1.2295 - val_accuracy: 0.5904\n",
      "Epoch 24/50\n",
      "24/24 [==============================] - 0s 2ms/step - loss: 0.5860 - accuracy: 0.8418 - val_loss: 1.2182 - val_accuracy: 0.5957\n",
      "Epoch 25/50\n",
      "24/24 [==============================] - 0s 2ms/step - loss: 0.5637 - accuracy: 0.8444 - val_loss: 1.2348 - val_accuracy: 0.6011\n",
      "Epoch 26/50\n",
      "24/24 [==============================] - 0s 2ms/step - loss: 0.5442 - accuracy: 0.8444 - val_loss: 1.2480 - val_accuracy: 0.5745\n",
      "Epoch 27/50\n",
      "24/24 [==============================] - 0s 2ms/step - loss: 0.5181 - accuracy: 0.8590 - val_loss: 1.2275 - val_accuracy: 0.6277\n",
      "Epoch 28/50\n",
      "24/24 [==============================] - 0s 2ms/step - loss: 0.5094 - accuracy: 0.8604 - val_loss: 1.2374 - val_accuracy: 0.5851\n",
      "Epoch 29/50\n",
      "24/24 [==============================] - 0s 2ms/step - loss: 0.4731 - accuracy: 0.8670 - val_loss: 1.2036 - val_accuracy: 0.5957\n",
      "Epoch 30/50\n",
      "24/24 [==============================] - 0s 2ms/step - loss: 0.4551 - accuracy: 0.8763 - val_loss: 1.2014 - val_accuracy: 0.6277\n",
      "Epoch 31/50\n",
      "24/24 [==============================] - 0s 2ms/step - loss: 0.4461 - accuracy: 0.8750 - val_loss: 1.1994 - val_accuracy: 0.6223\n",
      "Epoch 32/50\n",
      "24/24 [==============================] - 0s 2ms/step - loss: 0.4266 - accuracy: 0.8790 - val_loss: 1.1916 - val_accuracy: 0.6223\n",
      "Epoch 33/50\n",
      "24/24 [==============================] - 0s 2ms/step - loss: 0.4125 - accuracy: 0.8936 - val_loss: 1.1911 - val_accuracy: 0.6223\n",
      "Epoch 34/50\n",
      "24/24 [==============================] - 0s 2ms/step - loss: 0.3911 - accuracy: 0.9082 - val_loss: 1.1950 - val_accuracy: 0.6277\n",
      "Epoch 35/50\n",
      "24/24 [==============================] - 0s 4ms/step - loss: 0.3809 - accuracy: 0.9043 - val_loss: 1.1822 - val_accuracy: 0.6277\n",
      "Epoch 36/50\n",
      "24/24 [==============================] - 0s 2ms/step - loss: 0.3669 - accuracy: 0.9202 - val_loss: 1.2059 - val_accuracy: 0.6330\n",
      "Epoch 37/50\n",
      "24/24 [==============================] - 0s 2ms/step - loss: 0.3561 - accuracy: 0.9109 - val_loss: 1.2202 - val_accuracy: 0.6170\n",
      "Epoch 38/50\n",
      "24/24 [==============================] - 0s 2ms/step - loss: 0.3517 - accuracy: 0.9176 - val_loss: 1.1753 - val_accuracy: 0.6383\n",
      "Epoch 39/50\n",
      "24/24 [==============================] - 0s 2ms/step - loss: 0.3293 - accuracy: 0.9149 - val_loss: 1.2287 - val_accuracy: 0.6011\n",
      "Epoch 40/50\n",
      "24/24 [==============================] - 0s 2ms/step - loss: 0.3207 - accuracy: 0.9189 - val_loss: 1.1647 - val_accuracy: 0.6436\n",
      "Epoch 41/50\n",
      "24/24 [==============================] - 0s 2ms/step - loss: 0.3173 - accuracy: 0.9189 - val_loss: 1.1986 - val_accuracy: 0.6223\n",
      "Epoch 42/50\n",
      "24/24 [==============================] - 0s 2ms/step - loss: 0.3012 - accuracy: 0.9269 - val_loss: 1.1764 - val_accuracy: 0.6436\n",
      "Epoch 43/50\n",
      "24/24 [==============================] - 0s 2ms/step - loss: 0.2913 - accuracy: 0.9255 - val_loss: 1.1799 - val_accuracy: 0.6489\n",
      "Epoch 44/50\n",
      "24/24 [==============================] - 0s 2ms/step - loss: 0.2779 - accuracy: 0.9402 - val_loss: 1.1538 - val_accuracy: 0.6330\n",
      "Epoch 45/50\n",
      "24/24 [==============================] - 0s 2ms/step - loss: 0.2597 - accuracy: 0.9468 - val_loss: 1.1816 - val_accuracy: 0.6330\n",
      "Epoch 46/50\n",
      "24/24 [==============================] - 0s 2ms/step - loss: 0.2570 - accuracy: 0.9415 - val_loss: 1.1943 - val_accuracy: 0.6277\n",
      "Epoch 47/50\n",
      "24/24 [==============================] - 0s 2ms/step - loss: 0.2529 - accuracy: 0.9481 - val_loss: 1.1780 - val_accuracy: 0.6277\n",
      "Epoch 48/50\n",
      "24/24 [==============================] - 0s 2ms/step - loss: 0.2403 - accuracy: 0.9481 - val_loss: 1.2257 - val_accuracy: 0.6170\n",
      "Epoch 49/50\n",
      "24/24 [==============================] - 0s 2ms/step - loss: 0.2391 - accuracy: 0.9481 - val_loss: 1.1834 - val_accuracy: 0.6436\n",
      "Epoch 50/50\n",
      "24/24 [==============================] - 0s 2ms/step - loss: 0.2372 - accuracy: 0.9375 - val_loss: 1.1965 - val_accuracy: 0.6383\n"
     ]
    }
   ],
   "source": [
    "# Build the model with the optimal hyperparameters and train it on the data for 50 epochs\n",
    "model = tuner.hypermodel.build(best_hps)\n",
    "history = model.fit(X_train, y_train, epochs=50, validation_split=0.2)"
   ]
  },
  {
   "cell_type": "code",
   "execution_count": 324,
   "id": "d22216a0",
   "metadata": {},
   "outputs": [
    {
     "name": "stdout",
     "output_type": "stream",
     "text": [
      "Best epoch: 43\n"
     ]
    }
   ],
   "source": [
    "val_acc_per_epoch = history.history['val_accuracy']\n",
    "best_epoch = val_acc_per_epoch.index(max(val_acc_per_epoch)) + 1\n",
    "print('Best epoch: %d' % (best_epoch,))"
   ]
  },
  {
   "cell_type": "code",
   "execution_count": 325,
   "id": "df482bc9",
   "metadata": {},
   "outputs": [],
   "source": [
    "hypermodel = tuner.hypermodel.build(best_hps)"
   ]
  },
  {
   "cell_type": "code",
   "execution_count": 326,
   "id": "0f6b883f",
   "metadata": {},
   "outputs": [
    {
     "name": "stdout",
     "output_type": "stream",
     "text": [
      "Epoch 1/43\n",
      "24/24 [==============================] - 0s 8ms/step - loss: 3.5856 - accuracy: 0.0332 - val_loss: 3.5602 - val_accuracy: 0.0904\n",
      "Epoch 2/43\n",
      "24/24 [==============================] - 0s 2ms/step - loss: 3.4807 - accuracy: 0.1423 - val_loss: 3.4390 - val_accuracy: 0.1277\n",
      "Epoch 3/43\n",
      "24/24 [==============================] - 0s 2ms/step - loss: 3.1994 - accuracy: 0.2566 - val_loss: 3.1053 - val_accuracy: 0.2128\n",
      "Epoch 4/43\n",
      "24/24 [==============================] - 0s 2ms/step - loss: 2.7396 - accuracy: 0.3205 - val_loss: 2.6884 - val_accuracy: 0.2819\n",
      "Epoch 5/43\n",
      "24/24 [==============================] - 0s 2ms/step - loss: 2.2586 - accuracy: 0.4348 - val_loss: 2.3149 - val_accuracy: 0.3617\n",
      "Epoch 6/43\n",
      "24/24 [==============================] - 0s 2ms/step - loss: 1.9054 - accuracy: 0.5040 - val_loss: 2.0489 - val_accuracy: 0.4096\n",
      "Epoch 7/43\n",
      "24/24 [==============================] - 0s 2ms/step - loss: 1.6352 - accuracy: 0.5745 - val_loss: 1.8206 - val_accuracy: 0.5000\n",
      "Epoch 8/43\n",
      "24/24 [==============================] - 0s 2ms/step - loss: 1.4451 - accuracy: 0.6064 - val_loss: 1.7625 - val_accuracy: 0.5000\n",
      "Epoch 9/43\n",
      "24/24 [==============================] - 0s 2ms/step - loss: 1.2943 - accuracy: 0.6556 - val_loss: 1.6397 - val_accuracy: 0.4787\n",
      "Epoch 10/43\n",
      "24/24 [==============================] - 0s 2ms/step - loss: 1.1720 - accuracy: 0.6902 - val_loss: 1.6046 - val_accuracy: 0.5053\n",
      "Epoch 11/43\n",
      "24/24 [==============================] - 0s 2ms/step - loss: 1.1085 - accuracy: 0.6968 - val_loss: 1.4752 - val_accuracy: 0.5213\n",
      "Epoch 12/43\n",
      "24/24 [==============================] - 0s 2ms/step - loss: 0.9989 - accuracy: 0.7407 - val_loss: 1.4647 - val_accuracy: 0.5426\n",
      "Epoch 13/43\n",
      "24/24 [==============================] - 0s 2ms/step - loss: 0.9172 - accuracy: 0.7540 - val_loss: 1.3770 - val_accuracy: 0.5904\n",
      "Epoch 14/43\n",
      "24/24 [==============================] - 0s 2ms/step - loss: 0.8697 - accuracy: 0.7646 - val_loss: 1.4128 - val_accuracy: 0.5851\n",
      "Epoch 15/43\n",
      "24/24 [==============================] - 0s 2ms/step - loss: 0.8500 - accuracy: 0.7713 - val_loss: 1.3836 - val_accuracy: 0.5532\n",
      "Epoch 16/43\n",
      "24/24 [==============================] - 0s 2ms/step - loss: 0.7877 - accuracy: 0.7779 - val_loss: 1.3396 - val_accuracy: 0.5638\n",
      "Epoch 17/43\n",
      "24/24 [==============================] - 0s 2ms/step - loss: 0.7512 - accuracy: 0.8032 - val_loss: 1.3280 - val_accuracy: 0.5691\n",
      "Epoch 18/43\n",
      "24/24 [==============================] - 0s 2ms/step - loss: 0.7124 - accuracy: 0.8005 - val_loss: 1.2561 - val_accuracy: 0.6170\n",
      "Epoch 19/43\n",
      "24/24 [==============================] - 0s 2ms/step - loss: 0.6755 - accuracy: 0.8085 - val_loss: 1.2593 - val_accuracy: 0.5798\n",
      "Epoch 20/43\n",
      "24/24 [==============================] - 0s 2ms/step - loss: 0.6554 - accuracy: 0.8059 - val_loss: 1.2842 - val_accuracy: 0.5904\n",
      "Epoch 21/43\n",
      "24/24 [==============================] - 0s 2ms/step - loss: 0.6179 - accuracy: 0.8338 - val_loss: 1.2696 - val_accuracy: 0.5851\n",
      "Epoch 22/43\n",
      "24/24 [==============================] - 0s 2ms/step - loss: 0.5965 - accuracy: 0.8311 - val_loss: 1.2646 - val_accuracy: 0.5851\n",
      "Epoch 23/43\n",
      "24/24 [==============================] - 0s 2ms/step - loss: 0.5614 - accuracy: 0.8484 - val_loss: 1.2301 - val_accuracy: 0.6011\n",
      "Epoch 24/43\n",
      "24/24 [==============================] - 0s 2ms/step - loss: 0.5451 - accuracy: 0.8551 - val_loss: 1.2368 - val_accuracy: 0.6117\n",
      "Epoch 25/43\n",
      "24/24 [==============================] - 0s 2ms/step - loss: 0.5195 - accuracy: 0.8670 - val_loss: 1.2264 - val_accuracy: 0.5904\n",
      "Epoch 26/43\n",
      "24/24 [==============================] - 0s 2ms/step - loss: 0.4950 - accuracy: 0.8590 - val_loss: 1.2465 - val_accuracy: 0.6223\n",
      "Epoch 27/43\n",
      "24/24 [==============================] - 0s 2ms/step - loss: 0.4693 - accuracy: 0.8790 - val_loss: 1.2622 - val_accuracy: 0.5957\n",
      "Epoch 28/43\n",
      "24/24 [==============================] - 0s 2ms/step - loss: 0.4571 - accuracy: 0.8710 - val_loss: 1.1878 - val_accuracy: 0.6277\n",
      "Epoch 29/43\n",
      "24/24 [==============================] - 0s 2ms/step - loss: 0.4466 - accuracy: 0.8750 - val_loss: 1.2411 - val_accuracy: 0.6277\n",
      "Epoch 30/43\n",
      "24/24 [==============================] - 0s 2ms/step - loss: 0.4234 - accuracy: 0.8816 - val_loss: 1.1969 - val_accuracy: 0.6117\n",
      "Epoch 31/43\n",
      "24/24 [==============================] - 0s 2ms/step - loss: 0.4018 - accuracy: 0.8936 - val_loss: 1.2108 - val_accuracy: 0.6170\n",
      "Epoch 32/43\n",
      "24/24 [==============================] - 0s 2ms/step - loss: 0.3915 - accuracy: 0.8936 - val_loss: 1.1747 - val_accuracy: 0.6223\n",
      "Epoch 33/43\n",
      "24/24 [==============================] - 0s 2ms/step - loss: 0.3708 - accuracy: 0.9082 - val_loss: 1.1915 - val_accuracy: 0.6277\n",
      "Epoch 34/43\n",
      "24/24 [==============================] - 0s 2ms/step - loss: 0.3563 - accuracy: 0.9082 - val_loss: 1.2057 - val_accuracy: 0.6543\n",
      "Epoch 35/43\n",
      "24/24 [==============================] - 0s 3ms/step - loss: 0.3462 - accuracy: 0.9136 - val_loss: 1.1735 - val_accuracy: 0.6383\n",
      "Epoch 36/43\n",
      "24/24 [==============================] - 0s 2ms/step - loss: 0.3260 - accuracy: 0.9229 - val_loss: 1.2344 - val_accuracy: 0.6064\n",
      "Epoch 37/43\n",
      "24/24 [==============================] - 0s 2ms/step - loss: 0.3156 - accuracy: 0.9269 - val_loss: 1.2054 - val_accuracy: 0.6277\n",
      "Epoch 38/43\n",
      "24/24 [==============================] - 0s 2ms/step - loss: 0.2998 - accuracy: 0.9309 - val_loss: 1.1991 - val_accuracy: 0.6330\n",
      "Epoch 39/43\n",
      "24/24 [==============================] - 0s 2ms/step - loss: 0.2862 - accuracy: 0.9335 - val_loss: 1.1956 - val_accuracy: 0.6330\n",
      "Epoch 40/43\n",
      "24/24 [==============================] - 0s 2ms/step - loss: 0.2844 - accuracy: 0.9388 - val_loss: 1.1882 - val_accuracy: 0.6330\n",
      "Epoch 41/43\n",
      "24/24 [==============================] - 0s 2ms/step - loss: 0.2751 - accuracy: 0.9309 - val_loss: 1.2491 - val_accuracy: 0.6170\n",
      "Epoch 42/43\n",
      "24/24 [==============================] - 0s 2ms/step - loss: 0.2613 - accuracy: 0.9388 - val_loss: 1.2606 - val_accuracy: 0.6117\n",
      "Epoch 43/43\n",
      "24/24 [==============================] - 0s 2ms/step - loss: 0.2624 - accuracy: 0.9348 - val_loss: 1.2122 - val_accuracy: 0.6436\n"
     ]
    },
    {
     "data": {
      "text/plain": [
       "<tensorflow.python.keras.callbacks.History at 0x18e17dfba30>"
      ]
     },
     "execution_count": 326,
     "metadata": {},
     "output_type": "execute_result"
    }
   ],
   "source": [
    "# Retrain the model\n",
    "hypermodel.fit(X_train, y_train, epochs=best_epoch, validation_split=0.2)"
   ]
  },
  {
   "cell_type": "code",
   "execution_count": 327,
   "id": "bd6ddc85",
   "metadata": {},
   "outputs": [
    {
     "name": "stdout",
     "output_type": "stream",
     "text": [
      "15/15 [==============================] - 0s 999us/step - loss: 1.1585 - accuracy: 0.6724\n",
      "[test loss, test accuracy]: [1.1585049629211426, 0.6724137663841248]\n"
     ]
    }
   ],
   "source": [
    "eval_result = hypermodel.evaluate(X_test, y_test)\n",
    "print(\"[test loss, test accuracy]:\", eval_result)"
   ]
  },
  {
   "cell_type": "code",
   "execution_count": 328,
   "id": "2c58b7bd",
   "metadata": {},
   "outputs": [],
   "source": [
    "# Predict \n",
    "predictions = hypermodel.predict(X_test)"
   ]
  },
  {
   "cell_type": "code",
   "execution_count": 329,
   "id": "ff9ebda3",
   "metadata": {},
   "outputs": [
    {
     "data": {
      "text/plain": [
       "array([13,  5,  4, 32, 31, 24, 16, 21, 31,  2, 13, 12,  7, 26, 30, 26,  2,\n",
       "       28,  7, 24, 20, 16, 17, 13,  5, 26, 12, 13, 19,  3, 20,  2,  2, 32,\n",
       "        8, 35,  4, 25,  8,  4, 22,  2, 28, 22, 25,  6,  7, 35, 34, 30, 16,\n",
       "       35,  3, 17, 25, 10, 17,  7, 26,  5, 28,  1, 32, 11,  1, 34,  6, 12,\n",
       "       20, 15, 24, 26,  1, 13, 10, 19, 19,  4, 24, 16, 17,  3, 16, 19, 14,\n",
       "       31, 29, 27, 21, 12, 13,  4, 34, 19, 29, 32, 22, 23, 12, 31, 27, 28,\n",
       "       13,  3, 29,  2, 26,  6, 17,  7, 26, 13, 23, 32, 17, 24, 22, 14,  3,\n",
       "       25, 32,  1, 32, 12, 34,  2, 16,  1, 24, 10, 11, 15,  6,  7, 13, 34,\n",
       "       12,  1, 28, 14, 35, 20, 29, 32, 16, 14, 32,  4, 26,  6, 20, 12, 24,\n",
       "       19,  7, 13,  2, 24, 24, 31, 18, 14,  1, 20,  4, 33,  2, 34, 12,  3,\n",
       "       19,  5,  4,  1, 11, 15, 22, 16, 32,  2,  4,  4,  7, 32, 27, 33,  2,\n",
       "       33, 10, 17, 29, 13, 31, 24, 15, 35,  1, 26,  5, 17, 15, 13, 12,  1,\n",
       "        9,  3,  9,  2, 22, 27, 29, 20, 12, 10, 13, 20, 19, 24, 30, 24, 23,\n",
       "        4, 16, 26, 15, 19, 27, 19, 10, 28, 24, 13, 14, 26, 14, 33, 13,  9,\n",
       "       35,  1, 21, 15,  1,  9,  2, 33, 15, 11, 13, 21, 34, 25, 16, 11, 27,\n",
       "       28, 12, 10,  8, 27, 35, 16,  3, 13, 22,  2,  1, 24,  4, 15, 17, 11,\n",
       "       20, 17, 17,  3, 10, 26,  5, 12, 32, 34, 32,  6,  3, 24, 26, 21, 18,\n",
       "       28, 33, 14, 23, 28,  7, 11,  4,  1,  1, 21, 25, 20, 26, 19,  8, 21,\n",
       "       14, 15, 17,  5, 21, 26,  9,  5, 10, 15, 13, 21, 22, 15, 19, 34,  9,\n",
       "       19, 18, 30, 28, 14, 18, 14,  2,  1, 22,  9, 28, 10, 15, 22, 17, 19,\n",
       "       34, 24,  5, 33, 35, 13, 20, 13,  6, 22, 30, 12,  9, 15,  9, 34, 30,\n",
       "       29, 24,  4,  6, 20,  4, 17, 24, 28, 12, 20, 28, 15, 31,  9, 10, 33,\n",
       "       32, 10, 10,  7,  3, 30, 31,  3, 10,  7, 29,  9, 30, 22, 25, 29, 10,\n",
       "       15, 18, 30, 20,  2, 34,  2, 12, 32, 24, 26,  6,  4,  6,  5, 31, 24,\n",
       "       29, 22, 19, 32, 28, 24, 33,  9, 25, 23, 34, 10, 14,  4,  1, 24,  9,\n",
       "       20,  5, 18, 17, 19, 16, 14,  5, 20, 14, 13, 16, 24, 26, 12,  1, 17,\n",
       "        9, 23,  2, 30, 23,  9, 15, 10,  4, 23,  2,  4, 26, 24, 19, 16, 18,\n",
       "       11, 11, 32, 11,  5], dtype=int64)"
      ]
     },
     "execution_count": 329,
     "metadata": {},
     "output_type": "execute_result"
    }
   ],
   "source": [
    "np.argmax(predictions, axis=1)"
   ]
  },
  {
   "cell_type": "code",
   "execution_count": 330,
   "id": "f82c4697",
   "metadata": {},
   "outputs": [
    {
     "name": "stdout",
     "output_type": "stream",
     "text": [
      "              precision    recall  f1-score   support\n",
      "\n",
      "           0       0.00      0.00      0.00        13\n",
      "           1       0.61      0.92      0.73        12\n",
      "           2       0.26      0.62      0.37         8\n",
      "           3       0.75      0.75      0.75        12\n",
      "           4       0.68      0.87      0.76        15\n",
      "           5       0.85      0.73      0.79        15\n",
      "           6       0.80      1.00      0.89         8\n",
      "           7       0.91      0.91      0.91        11\n",
      "           8       1.00      0.40      0.57        10\n",
      "           9       0.87      0.72      0.79        18\n",
      "          10       0.59      0.71      0.65        14\n",
      "          11       0.70      0.58      0.64        12\n",
      "          12       0.94      1.00      0.97        16\n",
      "          13       0.43      0.82      0.56        11\n",
      "          14       0.86      0.80      0.83        15\n",
      "          15       0.59      0.71      0.65        14\n",
      "          16       0.64      0.53      0.58        17\n",
      "          17       0.75      0.63      0.69        19\n",
      "          18       0.71      0.31      0.43        16\n",
      "          19       0.71      0.63      0.67        19\n",
      "          20       0.44      0.64      0.52        11\n",
      "          21       0.89      0.80      0.84        10\n",
      "          22       0.77      0.77      0.77        13\n",
      "          23       0.88      0.54      0.67        13\n",
      "          24       0.33      1.00      0.50         8\n",
      "          25       0.88      0.88      0.88         8\n",
      "          26       0.67      0.80      0.73        15\n",
      "          27       0.86      0.50      0.63        12\n",
      "          28       0.64      0.64      0.64        14\n",
      "          29       0.80      0.67      0.73        12\n",
      "          30       0.60      0.60      0.60        10\n",
      "          31       0.89      0.62      0.73        13\n",
      "          32       0.65      0.69      0.67        16\n",
      "          33       0.67      0.50      0.57        12\n",
      "          34       0.62      0.73      0.67        11\n",
      "          35       0.62      0.45      0.53        11\n",
      "\n",
      "    accuracy                           0.67       464\n",
      "   macro avg       0.69      0.68      0.66       464\n",
      "weighted avg       0.70      0.67      0.67       464\n",
      "\n"
     ]
    },
    {
     "name": "stderr",
     "output_type": "stream",
     "text": [
      "C:\\Users\\marko\\anaconda3\\envs\\TensorFlowEnv\\lib\\site-packages\\sklearn\\metrics\\_classification.py:1318: UndefinedMetricWarning: Precision and F-score are ill-defined and being set to 0.0 in labels with no predicted samples. Use `zero_division` parameter to control this behavior.\n",
      "  _warn_prf(average, modifier, msg_start, len(result))\n",
      "C:\\Users\\marko\\anaconda3\\envs\\TensorFlowEnv\\lib\\site-packages\\sklearn\\metrics\\_classification.py:1318: UndefinedMetricWarning: Precision and F-score are ill-defined and being set to 0.0 in labels with no predicted samples. Use `zero_division` parameter to control this behavior.\n",
      "  _warn_prf(average, modifier, msg_start, len(result))\n",
      "C:\\Users\\marko\\anaconda3\\envs\\TensorFlowEnv\\lib\\site-packages\\sklearn\\metrics\\_classification.py:1318: UndefinedMetricWarning: Precision and F-score are ill-defined and being set to 0.0 in labels with no predicted samples. Use `zero_division` parameter to control this behavior.\n",
      "  _warn_prf(average, modifier, msg_start, len(result))\n"
     ]
    }
   ],
   "source": [
    "print(classification_report(y_test, np.argmax(predictions, axis=1)))"
   ]
  },
  {
   "cell_type": "code",
   "execution_count": 331,
   "id": "aceddf83",
   "metadata": {
    "scrolled": false
   },
   "outputs": [
    {
     "name": "stdout",
     "output_type": "stream",
     "text": [
      "[[[451   0]\n",
      "  [ 13   0]]\n",
      "\n",
      " [[445   7]\n",
      "  [  1  11]]\n",
      "\n",
      " [[442  14]\n",
      "  [  3   5]]\n",
      "\n",
      " [[449   3]\n",
      "  [  3   9]]\n",
      "\n",
      " [[443   6]\n",
      "  [  2  13]]\n",
      "\n",
      " [[447   2]\n",
      "  [  4  11]]\n",
      "\n",
      " [[454   2]\n",
      "  [  0   8]]\n",
      "\n",
      " [[452   1]\n",
      "  [  1  10]]\n",
      "\n",
      " [[454   0]\n",
      "  [  6   4]]\n",
      "\n",
      " [[444   2]\n",
      "  [  5  13]]\n",
      "\n",
      " [[443   7]\n",
      "  [  4  10]]\n",
      "\n",
      " [[449   3]\n",
      "  [  5   7]]\n",
      "\n",
      " [[447   1]\n",
      "  [  0  16]]\n",
      "\n",
      " [[441  12]\n",
      "  [  2   9]]\n",
      "\n",
      " [[447   2]\n",
      "  [  3  12]]\n",
      "\n",
      " [[443   7]\n",
      "  [  4  10]]\n",
      "\n",
      " [[442   5]\n",
      "  [  8   9]]\n",
      "\n",
      " [[441   4]\n",
      "  [  7  12]]\n",
      "\n",
      " [[446   2]\n",
      "  [ 11   5]]\n",
      "\n",
      " [[440   5]\n",
      "  [  7  12]]\n",
      "\n",
      " [[444   9]\n",
      "  [  4   7]]\n",
      "\n",
      " [[453   1]\n",
      "  [  2   8]]\n",
      "\n",
      " [[448   3]\n",
      "  [  3  10]]\n",
      "\n",
      " [[450   1]\n",
      "  [  6   7]]\n",
      "\n",
      " [[440  16]\n",
      "  [  0   8]]\n",
      "\n",
      " [[455   1]\n",
      "  [  1   7]]\n",
      "\n",
      " [[443   6]\n",
      "  [  3  12]]\n",
      "\n",
      " [[451   1]\n",
      "  [  6   6]]\n",
      "\n",
      " [[445   5]\n",
      "  [  5   9]]\n",
      "\n",
      " [[450   2]\n",
      "  [  4   8]]\n",
      "\n",
      " [[450   4]\n",
      "  [  4   6]]\n",
      "\n",
      " [[450   1]\n",
      "  [  5   8]]\n",
      "\n",
      " [[442   6]\n",
      "  [  5  11]]\n",
      "\n",
      " [[449   3]\n",
      "  [  6   6]]\n",
      "\n",
      " [[448   5]\n",
      "  [  3   8]]\n",
      "\n",
      " [[450   3]\n",
      "  [  6   5]]]\n"
     ]
    }
   ],
   "source": [
    "print(multilabel_confusion_matrix(y_test, np.argmax(predictions, axis=1)))"
   ]
  },
  {
   "cell_type": "markdown",
   "id": "614dbf63",
   "metadata": {},
   "source": [
    "### the model does not find zeros. Let's look at the training dataset for zeros and the letter O."
   ]
  },
  {
   "cell_type": "code",
   "execution_count": 156,
   "id": "668a82ff",
   "metadata": {},
   "outputs": [
    {
     "data": {
      "text/plain": [
       "'O'"
      ]
     },
     "execution_count": 156,
     "metadata": {},
     "output_type": "execute_result"
    }
   ],
   "source": [
    "classes[24]"
   ]
  },
  {
   "cell_type": "code",
   "execution_count": 376,
   "id": "752f6d9b",
   "metadata": {},
   "outputs": [
    {
     "name": "stdout",
     "output_type": "stream",
     "text": [
      "[8, 22, 90, 102, 187, 193, 221, 238, 257, 264, 269, 295, 311, 333, 365, 389, 390, 403, 412, 576, 659, 663, 676, 690, 714, 718, 775, 779, 835, 845, 922]\n"
     ]
    }
   ],
   "source": [
    "print([i for i in range(len(X_train)) if y_train[i] == 24])"
   ]
  },
  {
   "cell_type": "code",
   "execution_count": 382,
   "id": "fec206d7",
   "metadata": {},
   "outputs": [
    {
     "data": {
      "image/png": "[encoded data removed]",
      "text/plain": [
       "<Figure size 1080x576 with 30 Axes>"
      ]
     },
     "metadata": {},
     "output_type": "display_data"
    }
   ],
   "source": [
    "fig, axes = plt.subplots(5, 6, figsize=(15, 8))\n",
    "fig.suptitle('binary letters \"O\" from the training set', fontsize=20)\n",
    "n = [8, 22, 90, 102, 187, 193, 221, 238, 257, 264, 269, 295, 311, 333, 365,\n",
    "     389, 390, 403, 412, 576, 659, 663, 676, 690, 714, 718, 775, 779, 835, 845]\n",
    "i = 0\n",
    "for ax in axes.flat:\n",
    "    ax.set_yticks([])\n",
    "    ax.set_xticks([])\n",
    "    ax.imshow(X_train[n[i]], cmap=plt.cm.binary)\n",
    "    ax.set_xlabel(classes[y_train[n[i]]])\n",
    "    i += 1"
   ]
  },
  {
   "cell_type": "code",
   "execution_count": 378,
   "id": "967f745d",
   "metadata": {},
   "outputs": [
    {
     "data": {
      "text/plain": [
       "'0'"
      ]
     },
     "execution_count": 378,
     "metadata": {},
     "output_type": "execute_result"
    }
   ],
   "source": [
    "classes[0]"
   ]
  },
  {
   "cell_type": "code",
   "execution_count": 380,
   "id": "185e9b20",
   "metadata": {},
   "outputs": [
    {
     "name": "stdout",
     "output_type": "stream",
     "text": [
      "[53, 95, 121, 246, 293, 308, 359, 386, 392, 396, 397, 423, 426, 485, 531, 595, 638, 640, 647, 665, 673, 721, 729, 737, 878, 892]\n"
     ]
    }
   ],
   "source": [
    "print([i for i in range(len(X_train)) if y_train[i] == 0])"
   ]
  },
  {
   "cell_type": "code",
   "execution_count": 383,
   "id": "4529d63e",
   "metadata": {},
   "outputs": [
    {
     "data": {
      "image/png": "[encoded data removed]",
      "text/plain": [
       "<Figure size 1080x576 with 24 Axes>"
      ]
     },
     "metadata": {},
     "output_type": "display_data"
    }
   ],
   "source": [
    "fig, axes = plt.subplots(4, 6, figsize=(15, 8))\n",
    "fig.suptitle('binary number \"0\" from the training set', fontsize=20)\n",
    "n = [53, 95, 121, 246, 293, 308, 359, 386, 392, 396, 397, 423, 426, 485, 531, 595, 638, 640, 647, 665, 673, 721, 729, 737]\n",
    "i = 0\n",
    "for ax in axes.flat:\n",
    "    ax.set_yticks([])\n",
    "    ax.set_xticks([])\n",
    "    ax.imshow(X_train[n[i]], cmap=plt.cm.binary)\n",
    "    ax.set_xlabel(classes[y_train[n[i]]])\n",
    "    i += 1"
   ]
  },
  {
   "cell_type": "markdown",
   "id": "4476587d",
   "metadata": {},
   "source": [
    "### Differences cannot be distinguished, but the model, under certain hyperparameters, is able to distinguish between these two positions, albeit with small values of precision/recall."
   ]
  },
  {
   "cell_type": "code",
   "execution_count": 158,
   "id": "da974dbc",
   "metadata": {},
   "outputs": [
    {
     "data": {
      "image/png": "[encoded data removed]",
      "text/plain": [
       "<Figure size 432x288 with 2 Axes>"
      ]
     },
     "metadata": {
      "needs_background": "light"
     },
     "output_type": "display_data"
    }
   ],
   "source": [
    "plt.figure()\n",
    "plt.imshow(X_train[8])\n",
    "plt.colorbar()\n",
    "plt.grid(False)\n",
    "plt.show()"
   ]
  },
  {
   "cell_type": "code",
   "execution_count": 159,
   "id": "e60a544d",
   "metadata": {},
   "outputs": [
    {
     "data": {
      "image/png": "[encoded data removed]",
      "text/plain": [
       "<Figure size 432x288 with 2 Axes>"
      ]
     },
     "metadata": {
      "needs_background": "light"
     },
     "output_type": "display_data"
    }
   ],
   "source": [
    "plt.figure()\n",
    "plt.imshow(X_train[22])\n",
    "plt.colorbar()\n",
    "plt.grid(False)\n",
    "plt.show()"
   ]
  },
  {
   "cell_type": "code",
   "execution_count": 160,
   "id": "d5ed98b0",
   "metadata": {},
   "outputs": [
    {
     "data": {
      "image/png": "[encoded data removed]",
      "text/plain": [
       "<Figure size 432x288 with 2 Axes>"
      ]
     },
     "metadata": {
      "needs_background": "light"
     },
     "output_type": "display_data"
    }
   ],
   "source": [
    "plt.figure()\n",
    "plt.imshow(X_train[102])\n",
    "plt.colorbar()\n",
    "plt.grid(False)\n",
    "plt.show()"
   ]
  },
  {
   "cell_type": "code",
   "execution_count": null,
   "id": "30860973",
   "metadata": {},
   "outputs": [],
   "source": []
  }
 ],
 "metadata": {
  "kernelspec": {
   "display_name": "Python 3 (ipykernel)",
   "language": "python",
   "name": "python3"
  },
  "language_info": {
   "codemirror_mode": {
    "name": "ipython",
    "version": 3
   },
   "file_extension": ".py",
   "mimetype": "text/x-python",
   "name": "python",
   "nbconvert_exporter": "python",
   "pygments_lexer": "ipython3",
   "version": "3.8.13"
  }
 },
 "nbformat": 4,
 "nbformat_minor": 5
}
